{
  "nbformat": 4,
  "nbformat_minor": 0,
  "metadata": {
    "colab": {
      "name": "Homework4_cnf_task.ipynb",
      "provenance": [],
      "collapsed_sections": []
    },
    "kernelspec": {
      "name": "python3",
      "display_name": "Python 3"
    },
    "accelerator": "GPU"
  },
  "cells": [
    {
      "cell_type": "code",
      "metadata": {
        "id": "wUVy2glDtoaR",
        "colab": {
          "base_uri": "https://localhost:8080/"
        },
        "outputId": "e9d5c3dd-91a4-4e3e-8955-73b9b4f92776"
      },
      "source": [
        "!if [ -d dul_2021 ]; then rm -Rf dul_2021; fi\n",
        "!git clone https://github.com/GrigoryBartosh/dul_2021\n",
        "!pip install ./dul_2021"
      ],
      "execution_count": 1,
      "outputs": [
        {
          "output_type": "stream",
          "name": "stdout",
          "text": [
            "Cloning into 'dul_2021'...\n",
            "remote: Enumerating objects: 457, done.\u001b[K\n",
            "remote: Counting objects: 100% (207/207), done.\u001b[K\n",
            "remote: Compressing objects: 100% (121/121), done.\u001b[K\n",
            "remote: Total 457 (delta 115), reused 98 (delta 82), pack-reused 250\u001b[K\n",
            "Receiving objects: 100% (457/457), 73.76 MiB | 20.18 MiB/s, done.\n",
            "Resolving deltas: 100% (209/209), done.\n",
            "Checking out files: 100% (68/68), done.\n",
            "Processing ./dul_2021\n",
            "\u001b[33m  DEPRECATION: A future pip version will change local packages to be built in-place without first copying to a temporary directory. We recommend you use --use-feature=in-tree-build to test your packages with this new behavior before it becomes the default.\n",
            "   pip 21.3 will remove support for this functionality. You can find discussion regarding this at https://github.com/pypa/pip/issues/7555.\u001b[0m\n",
            "Building wheels for collected packages: dul-2021\n",
            "  Building wheel for dul-2021 (setup.py) ... \u001b[?25l\u001b[?25hdone\n",
            "  Created wheel for dul-2021: filename=dul_2021-0.1.0-py3-none-any.whl size=30522 sha256=2d07a689e18c635e5b73173f16190b907446fba2604ccb2b22a39895d778f3ab\n",
            "  Stored in directory: /tmp/pip-ephem-wheel-cache-6mehhl8o/wheels/55/59/29/0fb1c635652157734f4d741f32fc11979149684e83e919de06\n",
            "Successfully built dul-2021\n",
            "Installing collected packages: dul-2021\n",
            "Successfully installed dul-2021-0.1.0\n"
          ]
        }
      ]
    },
    {
      "cell_type": "code",
      "metadata": {
        "id": "ZHWosWrbpO5Y"
      },
      "source": [
        "from dul_2021.utils.hw4_utils import *"
      ],
      "execution_count": 2,
      "outputs": []
    },
    {
      "cell_type": "code",
      "metadata": {
        "id": "tx1d9F33IF8c"
      },
      "source": [
        "import numpy as np\n",
        "import matplotlib.pyplot as plt\n",
        "import IPython\n",
        "import torch\n",
        "import torch.nn as nn\n",
        "import torch.nn.functional as F\n",
        "import torch.utils.data as data\n",
        "import torch.optim as opt\n",
        "from torch.optim import Adam\n",
        "from torch.distributions.uniform import Uniform\n",
        "from torch.distributions.normal import Normal\n",
        "from torch.distributions.beta import Beta\n",
        "from torch.distributions import Bernoulli\n",
        "from torch.autograd.functional import vjp, jvp\n",
        "\n",
        "import copy\n",
        "\n",
        "from scipy.stats import norm\n",
        "from scipy.optimize import bisect\n",
        "from tqdm import trange, tqdm_notebook"
      ],
      "execution_count": 3,
      "outputs": []
    },
    {
      "cell_type": "code",
      "metadata": {
        "id": "OAOWaD8Bjq-k"
      },
      "source": [
        "device = torch.device(\"cuda\" if torch.cuda.is_available() else \"cpu\")"
      ],
      "execution_count": 4,
      "outputs": []
    },
    {
      "cell_type": "code",
      "metadata": {
        "colab": {
          "base_uri": "https://localhost:8080/"
        },
        "id": "COSuD1mfZTTF",
        "outputId": "e6621870-f402-460c-b01f-447196ede81c"
      },
      "source": [
        "!pip install torchdiffeq\n",
        "from torchdiffeq import odeint_adjoint\n",
        "import torchdiffeq"
      ],
      "execution_count": 5,
      "outputs": [
        {
          "output_type": "stream",
          "name": "stdout",
          "text": [
            "Collecting torchdiffeq\n",
            "  Downloading torchdiffeq-0.2.2-py3-none-any.whl (31 kB)\n",
            "Requirement already satisfied: scipy>=1.4.0 in /usr/local/lib/python3.7/dist-packages (from torchdiffeq) (1.4.1)\n",
            "Requirement already satisfied: torch>=1.3.0 in /usr/local/lib/python3.7/dist-packages (from torchdiffeq) (1.10.0+cu111)\n",
            "Requirement already satisfied: numpy>=1.13.3 in /usr/local/lib/python3.7/dist-packages (from scipy>=1.4.0->torchdiffeq) (1.21.5)\n",
            "Requirement already satisfied: typing-extensions in /usr/local/lib/python3.7/dist-packages (from torch>=1.3.0->torchdiffeq) (3.10.0.2)\n",
            "Installing collected packages: torchdiffeq\n",
            "Successfully installed torchdiffeq-0.2.2\n"
          ]
        }
      ]
    },
    {
      "cell_type": "markdown",
      "metadata": {
        "id": "ajgaGGwxFQ7q"
      },
      "source": [
        "# Bonus 3: CNF\n",
        "\n",
        "Implement CNF with Hutchinson trace estimator and bottleneck trick\n",
        "\n",
        "## You will provide these deliverables\n",
        "\n",
        "* Over the course of training, record the average negative log-likelihood (nats / dim) of the training data (per minibatch) and test data (for your entire test set). Code is provided that automatically plots the training curves.\n",
        "* Report the final test set performance of your final model\n",
        "\n",
        "\n",
        "## Solution\n",
        "\n",
        "Fill out the function below and return the necessary arguments. Feel free to create more cells if need be."
      ]
    },
    {
      "cell_type": "code",
      "source": [
        "class MLP(nn.Module):\n",
        "  def __init__(self, bottleneck_dim, hid_dim, z_dim):\n",
        "    super().__init__()\n",
        "    self.lin1 = nn.Sequential(nn.Linear(z_dim, hid_dim),\n",
        "                              nn.Tanh(),\n",
        "                              nn.Linear(hid_dim, bottleneck_dim),\n",
        "                              nn.Tanh())\n",
        "    \n",
        "    self.lin2 = nn.Sequential(nn.Linear(bottleneck_dim, hid_dim),\n",
        "                              nn.Tanh(),\n",
        "                              nn.Linear(hid_dim, z_dim),\n",
        "                              nn.Tanh())\n",
        "    \n",
        "    \n",
        "    bern = Bernoulli(probs=torch.full((128, bottleneck_dim), 0.5))\n",
        "    self.K = 100\n",
        "    self.epsilon = torch.stack([bern.sample() for _ in range(self.K)]) * 2 - 1\n",
        "    self.epsilon = self.epsilon.to(device)\n",
        "    \n",
        "  def forward(self, t, z_aug):\n",
        "    z_t = z_aug[:, :-1]\n",
        "\n",
        "    # Hutchinson trace estimator + Bottleneck\n",
        "    samples = torch.empty((self.K, 128), device=device)\n",
        "    \n",
        "    for i, eps in enumerate(self.epsilon):\n",
        "      h = vjp(self.lin1, z_t, eps, create_graph=True)\n",
        "      z = jvp(self.lin2, h[0], eps, create_graph=True)\n",
        "      \n",
        "      samples[i] = (h[1] * z[1]).sum(dim=1)\n",
        "\n",
        "    tr_estimator = - samples.mean(dim=0).unsqueeze(1)\n",
        "    \n",
        "    return torch.cat((z[0], tr_estimator), dim=1)"
      ],
      "metadata": {
        "id": "ez8bMemMg0Fz"
      },
      "execution_count": 6,
      "outputs": []
    },
    {
      "cell_type": "code",
      "source": [
        "def get_loss(z):\n",
        "  mse = 0.5 * (z[:, :-1] ** 2).sum(dim=1).mean()\n",
        "  offset = z[:, -1].mean()\n",
        "  return offset + mse"
      ],
      "metadata": {
        "id": "VhTngQdhvYWx"
      },
      "execution_count": 7,
      "outputs": []
    },
    {
      "cell_type": "code",
      "metadata": {
        "id": "h7kVtR1RFQ7q"
      },
      "source": [
        "def b3(train_data, test_data):\n",
        "  \"\"\"\n",
        "  train_data: An (n_train, 10) numpy array of floats in R^10\n",
        "  test_data: An (n_test, 10) numpy array of floats in R^10\n",
        "\n",
        "  Returns\n",
        "  - a (# of training iterations,) numpy array of train_losses evaluated every minibatch\n",
        "  - a (# of epochs + 1,) numpy array of test_losses evaluated once at initialization and after each epoch\n",
        "  \"\"\"\n",
        "  \n",
        "  model = MLP(5, 64, 10).to(device)\n",
        "  opt = Adam(model.parameters(), 1e-4)\n",
        "\n",
        "  loss_train_record = []\n",
        "  loss_test_record =[]\n",
        "  batch_size = 128\n",
        "\n",
        "  # Evaluation on initialization\n",
        "  N = test_data.shape[0]\n",
        "  p = np.random.permutation(N)\n",
        "  total_loss = []\n",
        "  for i in range(0, N, batch_size):\n",
        "    idx = p[i: i + batch_size]\n",
        "    if len(idx) < batch_size:\n",
        "      continue\n",
        "      \n",
        "    x_aug = torch.cat((torch.tensor(train_data[idx]), torch.zeros((batch_size, 1))),dim=1).float()\n",
        "    x_aug = x_aug.to(device)\n",
        "\n",
        "    z_aug = odeint_adjoint(model, x_aug,\n",
        "                           torch.FloatTensor([0, 10]),\n",
        "                           atol=1e-5, rtol=1e-5,\n",
        "                           method='dopri5')[1]\n",
        "    \n",
        "    loss = get_loss(z_aug.detach())\n",
        "    total_loss.append(loss.item() / test_data[idx].shape[1] + .5 * np.log(2 * np.pi))\n",
        "\n",
        "  loss_test_record.append(sum(total_loss) / len(total_loss))\n",
        "  \n",
        "  for epoch in range(5):\n",
        "    \n",
        "    # Training \n",
        "    N = train_data.shape[0]\n",
        "    p = np.random.permutation(N)\n",
        "    for i in range(0, N, batch_size):\n",
        "      idx = p[i: i + batch_size]\n",
        "      if len(idx) < batch_size:\n",
        "        continue\n",
        "      \n",
        "      x_aug = torch.cat((torch.tensor(train_data[idx]), torch.zeros((batch_size, 1))),dim=1).float()\n",
        "      x_aug = x_aug.to(device)\n",
        "\n",
        "      z_aug = odeint_adjoint(model, x_aug,\n",
        "                             torch.FloatTensor([0, 10]),\n",
        "                             atol=1e-5, rtol=1e-5,\n",
        "                             method='dopri5')[1]\n",
        "    \n",
        "      loss = get_loss(z_aug)\n",
        "\n",
        "      opt.zero_grad()\n",
        "      loss.backward()\n",
        "      opt.step()\n",
        "    \n",
        "      loss_train_record.append(loss.item() / train_data[idx].shape[1] + .5 * np.log(2 * np.pi))\n",
        "\n",
        "    # Evaluation on test set\n",
        "    N = test_data.shape[0]\n",
        "    p = np.random.permutation(N)\n",
        "    total_loss = []\n",
        "    for i in range(0, N, batch_size):\n",
        "      idx = p[i: i + batch_size]\n",
        "      if len(idx) < batch_size:\n",
        "        continue\n",
        "      \n",
        "      x_aug = torch.cat((torch.tensor(train_data[idx]), torch.zeros((batch_size, 1))),dim=1).float()\n",
        "      x_aug = x_aug.to(device)\n",
        "\n",
        "      z_aug = odeint_adjoint(model, x_aug,\n",
        "                             torch.FloatTensor([0, 10]),\n",
        "                             atol=1e-5, rtol=1e-5,\n",
        "                             method='dopri5')[1]\n",
        "\n",
        "      loss = get_loss(z_aug.detach())\n",
        "      total_loss.append(loss.item() / test_data[idx].shape[1] + .5 * np.log(2 * np.pi))\n",
        "\n",
        "    loss_test_record.append(sum(total_loss) / len(total_loss))\n",
        "\n",
        "    print(f\"EPOCH : {epoch + 1}\")\n",
        "    print(f\"\\t loss train : {sum(loss_train_record[-10:]) / 10:.5f}\")\n",
        "    print(f\"\\t loss test : {loss_test_record[-1]:.5f}\")\n",
        "\n",
        "  return loss_train_record, loss_test_record"
      ],
      "execution_count": 14,
      "outputs": []
    },
    {
      "cell_type": "markdown",
      "metadata": {
        "id": "tO5dmkQQFiHT"
      },
      "source": [
        "### Results\n",
        "\n",
        "Once you've implemented `b3`, execute the cells below to visualize and save your results\n",
        "\n"
      ]
    },
    {
      "cell_type": "code",
      "metadata": {
        "id": "O8BpBZorFiHU",
        "colab": {
          "base_uri": "https://localhost:8080/",
          "height": 609
        },
        "outputId": "add65b9a-9e01-4b1a-89c8-97d68d401ef9"
      },
      "source": [
        "q2_save_results(b3)"
      ],
      "execution_count": 15,
      "outputs": [
        {
          "output_type": "stream",
          "name": "stderr",
          "text": [
            "/usr/local/lib/python3.7/dist-packages/torchdiffeq/_impl/misc.py:296: UserWarning: t is not on the same device as y0. Coercing to y0.device.\n",
            "  warnings.warn(\"t is not on the same device as y0. Coercing to y0.device.\")\n"
          ]
        },
        {
          "output_type": "stream",
          "name": "stdout",
          "text": [
            "EPOCH : 1\n",
            "\t loss train : 1.96787\n",
            "\t loss test : 2.00832\n",
            "EPOCH : 2\n",
            "\t loss train : 1.61605\n",
            "\t loss test : 1.69380\n",
            "EPOCH : 3\n",
            "\t loss train : 1.50806\n",
            "\t loss test : 1.56059\n",
            "EPOCH : 4\n",
            "\t loss train : 1.44197\n",
            "\t loss test : 1.50596\n",
            "EPOCH : 5\n",
            "\t loss train : 1.40525\n",
            "\t loss test : 1.47173\n",
            "Final Test Loss: 1.4717\n"
          ]
        },
        {
          "output_type": "display_data",
          "data": {
            "text/plain": [
              "<Figure size 432x288 with 1 Axes>"
            ],
            "image/png": "[encoded data removed]"
          },
          "metadata": {
            "needs_background": "light"
          }
        }
      ]
    },
    {
      "cell_type": "code",
      "source": [
        ""
      ],
      "metadata": {
        "id": "wb4JkLZIwS0C"
      },
      "execution_count": null,
      "outputs": []
    }
  ]
}