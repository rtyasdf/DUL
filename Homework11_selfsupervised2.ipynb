{
  "nbformat": 4,
  "nbformat_minor": 0,
  "metadata": {
    "colab": {
      "name": "Homework11_selfsupervised2_task.ipynb",
      "provenance": [],
      "collapsed_sections": []
    },
    "kernelspec": {
      "name": "python3",
      "display_name": "Python 3"
    },
    "language_info": {
      "name": "python"
    },
    "accelerator": "GPU"
  },
  "cells": [
    {
      "cell_type": "markdown",
      "metadata": {
        "id": "view-in-github"
      },
      "source": [
        "<a href=\"https://colab.research.google.com/github/GrigoryBartosh/dul_2021/blob/main/Homework/hw11/Homework11_selfsupervised2.ipynb\" target=\"_parent\"><img src=\"https://colab.research.google.com/assets/colab-badge.svg\" alt=\"Open In Colab\"/></a>"
      ]
    },
    {
      "cell_type": "code",
      "source": [
        "!if [ -d dul_2021 ]; then rm -Rf dul_2021; fi\n",
        "!git clone https://github.com/GrigoryBartosh/dul_2021\n",
        "!pip install ./dul_2021"
      ],
      "metadata": {
        "colab": {
          "base_uri": "https://localhost:8080/"
        },
        "id": "4dRz5SIFKfZD",
        "outputId": "eef3a6fb-9669-4f4e-f487-2d6f54ff3cc0"
      },
      "execution_count": 1,
      "outputs": [
        {
          "output_type": "stream",
          "name": "stdout",
          "text": [
            "Cloning into 'dul_2021'...\n",
            "remote: Enumerating objects: 380, done.\u001b[K\n",
            "remote: Counting objects: 100% (209/209), done.\u001b[K\n",
            "remote: Compressing objects: 100% (135/135), done.\u001b[K\n",
            "remote: Total 380 (delta 117), reused 97 (delta 67), pack-reused 171\u001b[K\n",
            "Receiving objects: 100% (380/380), 55.95 MiB | 23.79 MiB/s, done.\n",
            "Resolving deltas: 100% (178/178), done.\n",
            "Processing ./dul_2021\n",
            "\u001b[33m  DEPRECATION: A future pip version will change local packages to be built in-place without first copying to a temporary directory. We recommend you use --use-feature=in-tree-build to test your packages with this new behavior before it becomes the default.\n",
            "   pip 21.3 will remove support for this functionality. You can find discussion regarding this at https://github.com/pypa/pip/issues/7555.\u001b[0m\n",
            "Building wheels for collected packages: dul-2021\n",
            "  Building wheel for dul-2021 (setup.py) ... \u001b[?25l\u001b[?25hdone\n",
            "  Created wheel for dul-2021: filename=dul_2021-0.1.0-py3-none-any.whl size=27628 sha256=ce9b34d693a1c4bed71ee89bd0bd1fe9c534669b5b07598d72027c8be42f72ef\n",
            "  Stored in directory: /tmp/pip-ephem-wheel-cache-ktkpxt4s/wheels/55/59/29/0fb1c635652157734f4d741f32fc11979149684e83e919de06\n",
            "Successfully built dul-2021\n",
            "Installing collected packages: dul-2021\n",
            "Successfully installed dul-2021-0.1.0\n"
          ]
        }
      ]
    },
    {
      "cell_type": "code",
      "source": [
        "from dul_2021.utils.hw11_utils import *"
      ],
      "metadata": {
        "id": "KjY-iIy5MSZb"
      },
      "execution_count": 2,
      "outputs": []
    },
    {
      "cell_type": "code",
      "source": [
        "device = torch.device(\"cuda\" if torch.cuda.is_available() else \"cpu\")"
      ],
      "metadata": {
        "id": "TXe1bIEownPU"
      },
      "execution_count": 3,
      "outputs": []
    },
    {
      "cell_type": "markdown",
      "source": [
        "# Question 1. BYOL\n",
        "\n",
        "Here we will implement [BYOL](https://arxiv.org/abs/2006.07733).\n",
        "\n",
        "* You can combine view, representation, and projection into one network. You can use same architechure as in practice. \n",
        "\n",
        "* Use BatchNorm\n",
        "\n",
        "* As predictor use few linear layers\n",
        "\n",
        "* Dataset comes untransformed, so you need to apply transformations during training by yourself. Use same augmentations as in SimCLR\n",
        "\n",
        "**Hyperparameters**\n",
        "\n",
        "* τ = 0.99 (target update coefficient)\n",
        "* lr = 1e-4\n",
        "* num_epochs = 20\n",
        "* latent dim = 128\n",
        "\n",
        "\n",
        "\n",
        "**You will provide the following deliverables**\n",
        "\n",
        "\n",
        "1. Over the course of training, record loss ber batch.\n",
        "2. A function that encodes a batch of images with your trained model. The function recieves a batch torch tensors on cpu and should return transformed 2d tensor (batch size x laten dim). It will be used to test representation on classification task."
      ],
      "metadata": {
        "id": "t7J5FgOHW6Z-"
      }
    },
    {
      "cell_type": "markdown",
      "source": [
        "## Main classes"
      ],
      "metadata": {
        "id": "EQ4P48TTElob"
      }
    },
    {
      "cell_type": "code",
      "source": [
        "class ConvReluBN(nn.Module):\n",
        "  def __init__(self, in_features, out_features, kernel_size=(3, 3), stride=2, padding=1):\n",
        "    super().__init__()\n",
        "    self.conv = nn.Sequential(nn.Conv2d(in_features, out_features, kernel_size, stride, padding),\n",
        "                              nn.BatchNorm2d(out_features),\n",
        "                              nn.ReLU())\n",
        "\n",
        "  def forward(self, x):\n",
        "    return self.conv(x)"
      ],
      "metadata": {
        "id": "bM40RDhAV419"
      },
      "execution_count": 4,
      "outputs": []
    },
    {
      "cell_type": "code",
      "source": [
        "class Encoder(nn.Module):\n",
        "  def __init__(self, lat_dim=128):\n",
        "    super().__init__()\n",
        "    self.conv = nn.Sequential(ConvReluBN(1, 32, stride=1),\n",
        "                              ConvReluBN(32, 64),\n",
        "                              ConvReluBN(64, 128),\n",
        "                              ConvReluBN(128, 128),\n",
        "                              ConvReluBN(128, 128),\n",
        "                              ConvReluBN(128, 128))\n",
        "    \n",
        "    self.lin = nn.Sequential(nn.Flatten(),\n",
        "                             nn.Linear(128, 128),\n",
        "                             nn.ReLU(),\n",
        "                             nn.Linear(128, lat_dim))\n",
        "\n",
        "  def forward(self, x):\n",
        "    x = self.conv(x)\n",
        "    return self.lin(x)"
      ],
      "metadata": {
        "id": "AJ7LGMuhEmBe"
      },
      "execution_count": 15,
      "outputs": []
    },
    {
      "cell_type": "code",
      "source": [
        "class Predictor(nn.Module):\n",
        "  def __init__(self, lat_dim=128):\n",
        "    super().__init__()\n",
        "    self.lin = nn.Sequential(nn.Linear(lat_dim, 256),\n",
        "                             nn.ReLU(),\n",
        "                             nn.Linear(256, 256),\n",
        "                             nn.ReLU(),\n",
        "                             nn.Linear(256, lat_dim))\n",
        "\n",
        "  def forward(self, x):\n",
        "    return self.lin(x)    "
      ],
      "metadata": {
        "id": "7Af9D2FyX7C_"
      },
      "execution_count": 16,
      "outputs": []
    },
    {
      "cell_type": "code",
      "source": [
        "def update_teacher(T, S, τ):\n",
        "  for (_, p), (_, q) in zip(T.named_parameters(), S.named_parameters()):\n",
        "    p.data = τ * p.data + (1 - τ) * q.data "
      ],
      "metadata": {
        "id": "Tg-8iv15lYw9"
      },
      "execution_count": 17,
      "outputs": []
    },
    {
      "cell_type": "markdown",
      "source": [
        "## Define model and hyperparameters"
      ],
      "metadata": {
        "id": "NSSTzkn-EUTb"
      }
    },
    {
      "cell_type": "code",
      "source": [
        "batch_size = 128\n",
        "n_epochs = 20\n",
        "lat_dim = 128\n",
        "τ = 0.99"
      ],
      "metadata": {
        "id": "-uET80_wjJaT"
      },
      "execution_count": 18,
      "outputs": []
    },
    {
      "cell_type": "code",
      "source": [
        "encoder = Encoder(lat_dim=lat_dim)\n",
        "student = nn.Sequential(encoder,\n",
        "                        Predictor(lat_dim=lat_dim)).to(device)\n",
        "\n",
        "teacher = Encoder(lat_dim=lat_dim).to(device)"
      ],
      "metadata": {
        "id": "g7YAhQcMEVQl"
      },
      "execution_count": 19,
      "outputs": []
    },
    {
      "cell_type": "code",
      "source": [
        "from torch.optim import Adam\n",
        "\n",
        "opt = Adam(student.parameters(), 1e-4)\n",
        "\n",
        "for p in teacher.parameters():\n",
        "  p.requires_grad = False"
      ],
      "metadata": {
        "id": "oHQi8Ss0kD33"
      },
      "execution_count": 20,
      "outputs": []
    },
    {
      "cell_type": "markdown",
      "source": [
        "## Transformations"
      ],
      "metadata": {
        "id": "hRr-6qRSlLKz"
      }
    },
    {
      "cell_type": "code",
      "source": [
        "from torchvision import transforms\n",
        "\n",
        "transform = transforms.Compose([transforms.RandomHorizontalFlip(),\n",
        "                                transforms.RandomResizedCrop(size=28, scale=(0.5, 1.0)),\n",
        "                                transforms.Normalize((-1,), (2.0,)),\n",
        "                                transforms.ColorJitter(0.3, 0., 0., 0.3),\n",
        "                                transforms.Normalize((0.5,), (0.5,))])"
      ],
      "metadata": {
        "id": "Gs9MFKEilO4q"
      },
      "execution_count": 21,
      "outputs": []
    },
    {
      "cell_type": "markdown",
      "source": [
        "## Load data"
      ],
      "metadata": {
        "id": "yQDU0KZFEaL7"
      }
    },
    {
      "cell_type": "code",
      "source": [
        "from torch.utils.data import DataLoader\n",
        "\n",
        "train_mnist, _ = get_data('MNIST')\n",
        "train_data = DataLoader(train_mnist, batch_size=batch_size, shuffle=True)"
      ],
      "metadata": {
        "id": "sOS4oZWMEan0"
      },
      "execution_count": 22,
      "outputs": []
    },
    {
      "cell_type": "markdown",
      "source": [
        "## Train loop"
      ],
      "metadata": {
        "id": "ma_tQZdyEH6k"
      }
    },
    {
      "cell_type": "code",
      "source": [
        "from torch.nn.functional import cosine_similarity\n",
        "\n",
        "student.train()\n",
        "teacher.train()\n",
        "\n",
        "loss_record = []\n",
        "\n",
        "for epoch in range(n_epochs):\n",
        "  for h, _ in train_data:\n",
        "    x = student(transform(h).to(device))\n",
        "    y = teacher(transform(h).to(device))\n",
        "    \n",
        "    loss = - cosine_similarity(x, y).mean()\n",
        "    \n",
        "    opt.zero_grad()\n",
        "    loss.backward()\n",
        "    opt.step()\n",
        "\n",
        "    update_teacher(teacher, student, τ)\n",
        "    \n",
        "    loss_record.append(-loss.item())\n",
        "\n",
        "  print(f\"Epoch : {epoch}\")\n",
        "  print(f\"\\t loss = {np.sum(loss_record[-100:])}\")"
      ],
      "metadata": {
        "colab": {
          "base_uri": "https://localhost:8080/"
        },
        "id": "9k-J8xjsEHAG",
        "outputId": "7e3e5e0b-abc5-4aa1-93c8-918467586678"
      },
      "execution_count": 23,
      "outputs": [
        {
          "output_type": "stream",
          "name": "stdout",
          "text": [
            "Epoch : 0\n",
            "\t loss = 94.76131165027618\n",
            "Epoch : 1\n",
            "\t loss = 97.18857562541962\n",
            "Epoch : 2\n",
            "\t loss = 98.36413019895554\n",
            "Epoch : 3\n",
            "\t loss = 98.63652938604355\n",
            "Epoch : 4\n",
            "\t loss = 98.72686445713043\n",
            "Epoch : 5\n",
            "\t loss = 98.5866824388504\n",
            "Epoch : 6\n",
            "\t loss = 98.67767333984375\n",
            "Epoch : 7\n",
            "\t loss = 98.61375427246094\n",
            "Epoch : 8\n",
            "\t loss = 98.7637950181961\n",
            "Epoch : 9\n",
            "\t loss = 98.8867774605751\n",
            "Epoch : 10\n",
            "\t loss = 98.86015719175339\n",
            "Epoch : 11\n",
            "\t loss = 98.93360912799835\n",
            "Epoch : 12\n",
            "\t loss = 98.82282078266144\n",
            "Epoch : 13\n",
            "\t loss = 98.87765341997147\n",
            "Epoch : 14\n",
            "\t loss = 98.98671901226044\n",
            "Epoch : 15\n",
            "\t loss = 98.99140584468842\n",
            "Epoch : 16\n",
            "\t loss = 98.96576648950577\n",
            "Epoch : 17\n",
            "\t loss = 98.93971699476242\n",
            "Epoch : 18\n",
            "\t loss = 98.83213865756989\n",
            "Epoch : 19\n",
            "\t loss = 98.89199459552765\n"
          ]
        }
      ]
    },
    {
      "cell_type": "markdown",
      "source": [
        "## Results"
      ],
      "metadata": {
        "id": "hdLm5hrKEJIb"
      }
    },
    {
      "cell_type": "code",
      "source": [
        "def q1(train_data):\n",
        "    \"\"\"\n",
        "    train_data: An (n_train, 1, 28, 28) torchvision dataset of MNIST images with values from -1 to 1\n",
        "\n",
        "    Returns\n",
        "    - a (# of training iterations, ) numpy array  losses on each iteration\n",
        "    - a function that transforms batch of images into their latent representation\n",
        "    \"\"\"\n",
        "    encoder.eval()\n",
        "    model = encoder.to(\"cpu\")\n",
        "    return np.array(loss_record), model"
      ],
      "metadata": {
        "id": "Og9Fv7sV6nrO"
      },
      "execution_count": 26,
      "outputs": []
    },
    {
      "cell_type": "code",
      "source": [
        "# change flag to False if you want only to test your losses w/o accuracy (it takes around 4-5 minutes)\n",
        "q1_results(q1, True)"
      ],
      "metadata": {
        "colab": {
          "base_uri": "https://localhost:8080/",
          "height": 312
        },
        "id": "3Ib0ne2mX80s",
        "outputId": "3052b4d0-a8b0-43e5-d362-75f41747a3ce"
      },
      "execution_count": 27,
      "outputs": [
        {
          "output_type": "stream",
          "name": "stdout",
          "text": [
            "mean classification accuracy=0.8824\n"
          ]
        },
        {
          "output_type": "display_data",
          "data": {
            "image/png": "[encoded data removed]",
            "text/plain": [
              "<Figure size 432x288 with 1 Axes>"
            ]
          },
          "metadata": {
            "needs_background": "light"
          }
        }
      ]
    },
    {
      "cell_type": "markdown",
      "source": [
        "# Question 2. Barlow Twins\n",
        "\n",
        "Here we will implement [barlow twins](https://arxiv.org/abs/2103.03230).\n",
        "\n",
        "* You can use same architechure as in practice. \n",
        "\n",
        "* Dataset comes untransformed, so you need to apply transformations during training by yourself. Use same augmentations as in SimCLR\n",
        "\n",
        "**Hyperparameters**\n",
        "\n",
        "* λ = 0.01 \n",
        "* lr = 5e-4\n",
        "* num_epochs = 20\n",
        "* latent dim = 128\n",
        "\n",
        "\n",
        "\n",
        "**You will provide the following deliverables**\n",
        "\n",
        "\n",
        "1. Over the course of training, record loss ber batch.\n",
        "2. A function that encodes a batch of images with your trained model. The function recieves a batch torch tensors on cpu and should return transformed 2d tensor (batch size x laten dim). It will be used to test representation on classification task."
      ],
      "metadata": {
        "id": "hlbaIthyMGab"
      }
    },
    {
      "cell_type": "markdown",
      "source": [
        "## Main classes"
      ],
      "metadata": {
        "id": "c2dhjc-t71sD"
      }
    },
    {
      "cell_type": "code",
      "source": [
        "class Encoder(nn.Module):\n",
        "  def __init__(self, lat_dim=128):\n",
        "    super().__init__()\n",
        "    self.conv = nn.Sequential(ConvReluBN(3, 32, stride=1),\n",
        "                              ConvReluBN(32, 64),\n",
        "                              ConvReluBN(64, 128),\n",
        "                              ConvReluBN(128, 128),\n",
        "                              ConvReluBN(128, 128),\n",
        "                              ConvReluBN(128, 128))\n",
        "    \n",
        "    self.lin = nn.Sequential(nn.Flatten(),\n",
        "                             nn.Linear(128, 128),\n",
        "                             nn.ReLU(),\n",
        "                             nn.Linear(128, lat_dim))\n",
        "\n",
        "  def forward(self, x):\n",
        "    x = self.conv(x)\n",
        "    return self.lin(x)"
      ],
      "metadata": {
        "id": "TdqWV88d7vsK"
      },
      "execution_count": 26,
      "outputs": []
    },
    {
      "cell_type": "code",
      "source": [
        "class Projector(nn.Module):\n",
        "  def __init__(self, lat_dim=128):\n",
        "    super().__init__()\n",
        "    self.lin = nn.Sequential(nn.Linear(lat_dim, 256),\n",
        "                             nn.ReLU(),\n",
        "                             nn.Linear(256, 256),\n",
        "                             nn.ReLU(),\n",
        "                             nn.Linear(256, lat_dim))\n",
        "\n",
        "  def forward(self, x):\n",
        "    return self.lin(x)"
      ],
      "metadata": {
        "id": "yq76dEHo7wBb"
      },
      "execution_count": 27,
      "outputs": []
    },
    {
      "cell_type": "markdown",
      "source": [
        "## Define model and hyperparameters"
      ],
      "metadata": {
        "id": "g9FRF31j6DAo"
      }
    },
    {
      "cell_type": "code",
      "source": [
        "batch_size = 128\n",
        "n_epochs = 20\n",
        "lat_dim = 128\n",
        "λ = 1e-2"
      ],
      "metadata": {
        "id": "4HTAzLFN6Do_"
      },
      "execution_count": 28,
      "outputs": []
    },
    {
      "cell_type": "code",
      "source": [
        "from torch.optim import Adam\n",
        "\n",
        "encoder = Encoder(lat_dim=lat_dim)\n",
        "network = nn.Sequential(encoder,\n",
        "                        Projector(lat_dim=lat_dim)).to(device)\n",
        "\n",
        "opt = Adam(network.parameters(), 5e-4)"
      ],
      "metadata": {
        "id": "QuEtZr4h7UjR"
      },
      "execution_count": 29,
      "outputs": []
    },
    {
      "cell_type": "markdown",
      "source": [
        "## Transformation"
      ],
      "metadata": {
        "id": "KTHbIWOi6Vxm"
      }
    },
    {
      "cell_type": "code",
      "source": [
        "from torchvision import transforms\n",
        "\n",
        "transform = transforms.Compose([transforms.RandomHorizontalFlip(),\n",
        "                                transforms.RandomResizedCrop(size=32, scale=(0.5, 1.0)),\n",
        "                                transforms.Normalize((-1,), (2.0,)),\n",
        "                                transforms.ColorJitter(0.3, 0., 0., 0.3),\n",
        "                                transforms.Normalize((0.5,), (0.5,))])"
      ],
      "metadata": {
        "id": "Yh_9B1Qq6Xna"
      },
      "execution_count": 30,
      "outputs": []
    },
    {
      "cell_type": "markdown",
      "source": [
        "## Load data"
      ],
      "metadata": {
        "id": "MvON6PEn6YBg"
      }
    },
    {
      "cell_type": "code",
      "source": [
        "from torch.utils.data import DataLoader\n",
        "\n",
        "train_cifar, _ = get_data('CIFAR10')\n",
        "train_data = DataLoader(train_cifar, batch_size=batch_size, shuffle=True)"
      ],
      "metadata": {
        "colab": {
          "base_uri": "https://localhost:8080/"
        },
        "id": "HA6CcBtJ6Ycy",
        "outputId": "73420119-d5ce-435b-f0d4-11dd955f88b7"
      },
      "execution_count": 31,
      "outputs": [
        {
          "output_type": "stream",
          "name": "stdout",
          "text": [
            "Files already downloaded and verified\n",
            "Files already downloaded and verified\n"
          ]
        }
      ]
    },
    {
      "cell_type": "markdown",
      "source": [
        "## Train loop"
      ],
      "metadata": {
        "id": "uEJREbr86CKZ"
      }
    },
    {
      "cell_type": "code",
      "source": [
        "from torch.nn.functional import normalize\n",
        "\n",
        "loss_record = []\n",
        "\n",
        "network.train()\n",
        "\n",
        "for epoch in range(n_epochs):\n",
        "  for x, _ in train_data:\n",
        "    t1 = transform(x).to(device)\n",
        "    t2 = transform(x).to(device)\n",
        "\n",
        "    z1 = normalize(network(t1), dim=0).T\n",
        "    z2 = normalize(network(t2), dim=0)\n",
        "\n",
        "    C = torch.matmul(z1, z2)\n",
        "    loss = (torch.diag(C) - 1) ** 2 - λ * torch.diag(C) ** 2\n",
        "    loss = loss.sum()\n",
        "    loss += λ * (C ** 2).sum()\n",
        "\n",
        "    opt.zero_grad()\n",
        "    loss.backward()\n",
        "    opt.step()\n",
        "\n",
        "    loss_record.append(loss.item())\n",
        "\n",
        "  print(f\"Epoch : {epoch}\")\n",
        "  print(f\"\\t loss = {np.sum(loss_record[-100:])}\")"
      ],
      "metadata": {
        "colab": {
          "base_uri": "https://localhost:8080/"
        },
        "id": "_12yfUOx6EHq",
        "outputId": "c8a0d308-34d7-4a07-d9c0-2c4229f1a68c"
      },
      "execution_count": 32,
      "outputs": [
        {
          "output_type": "stream",
          "name": "stdout",
          "text": [
            "Epoch : 0\n",
            "\t loss = 790.8588862419128\n",
            "Epoch : 1\n",
            "\t loss = 589.3625116348267\n",
            "Epoch : 2\n",
            "\t loss = 552.4876806735992\n",
            "Epoch : 3\n",
            "\t loss = 508.25109791755676\n",
            "Epoch : 4\n",
            "\t loss = 469.17368507385254\n",
            "Epoch : 5\n",
            "\t loss = 438.33988666534424\n",
            "Epoch : 6\n",
            "\t loss = 410.48417472839355\n",
            "Epoch : 7\n",
            "\t loss = 361.6979064941406\n",
            "Epoch : 8\n",
            "\t loss = 422.49570083618164\n",
            "Epoch : 9\n",
            "\t loss = 383.03772139549255\n",
            "Epoch : 10\n",
            "\t loss = 373.9475407600403\n",
            "Epoch : 11\n",
            "\t loss = 361.2076053619385\n",
            "Epoch : 12\n",
            "\t loss = 306.1575140953064\n",
            "Epoch : 13\n",
            "\t loss = 318.8007016181946\n",
            "Epoch : 14\n",
            "\t loss = 308.9542453289032\n",
            "Epoch : 15\n",
            "\t loss = 357.3473677635193\n",
            "Epoch : 16\n",
            "\t loss = 280.6172536611557\n",
            "Epoch : 17\n",
            "\t loss = 296.1301555633545\n",
            "Epoch : 18\n",
            "\t loss = 340.8662950992584\n",
            "Epoch : 19\n",
            "\t loss = 276.3048540353775\n"
          ]
        }
      ]
    },
    {
      "cell_type": "markdown",
      "source": [
        "## Results"
      ],
      "metadata": {
        "id": "PUDRM1pv5_y9"
      }
    },
    {
      "cell_type": "code",
      "source": [
        "def q2(train_data, useless_argument):\n",
        "    \"\"\"\n",
        "    train_data: An (n_train, 3, 32, 32) torchvision dataset of CIFAR10 images with values from -1 to 1\n",
        "\n",
        "    Returns\n",
        "    - a (# of training iterations, ) numpy array  losses on each iteration\n",
        "    - a function that transforms batch of images into their latent representation\n",
        "    \"\"\"\n",
        "    encoder.eval()\n",
        "    model = encoder.to(\"cpu\")\n",
        "    return np.array(loss_record), model"
      ],
      "metadata": {
        "id": "pd6RrZfP75HR"
      },
      "execution_count": 35,
      "outputs": []
    },
    {
      "cell_type": "code",
      "source": [
        "# change flag to False if you want only to test your losses w/o accuracy (it takes around 4-5 minutes)\n",
        "q2_results(q2, True)"
      ],
      "metadata": {
        "id": "EA1Z_s1a8_sB",
        "colab": {
          "base_uri": "https://localhost:8080/",
          "height": 347
        },
        "outputId": "4f5bbf49-87fe-42db-d559-719c2cd9346d"
      },
      "execution_count": 46,
      "outputs": [
        {
          "output_type": "stream",
          "name": "stdout",
          "text": [
            "Files already downloaded and verified\n",
            "Files already downloaded and verified\n",
            "mean classification accuracy=0.4101\n"
          ]
        },
        {
          "output_type": "display_data",
          "data": {
            "image/png": "[encoded data removed]",
            "text/plain": [
              "<Figure size 432x288 with 1 Axes>"
            ]
          },
          "metadata": {
            "needs_background": "light"
          }
        }
      ]
    },
    {
      "cell_type": "markdown",
      "source": [
        "# Bonus. SwAV\n",
        "\n",
        "Here we will implement [SwAV](https://arxiv.org/abs/2006.09882v5)\n",
        "\n",
        "**You will provide the following deliverables**\n",
        "\n",
        "\n",
        "1. Over the course of training, record loss ber batch.\n",
        "2. A function that encodes a batch of images with your trained model. The function recieves a batch torch tensors on cpu and should return transformed 2d tensor (batch size x laten dim). It will be used to test representation on classification task."
      ],
      "metadata": {
        "id": "D8UN9nr9aYGx"
      }
    },
    {
      "cell_type": "code",
      "source": [
        "def b(train_data):\n",
        "    \"\"\"\n",
        "    train_data: An (n_train, 1, 32, 32) torchvision dataset of CIFAR10 images with values from -1 to 1\n",
        "\n",
        "    Returns\n",
        "    - a (# of training iterations, ) numpy array  losses on each iteration\n",
        "    - a function that transforms batch of images into their latent representation\n",
        "    \"\"\""
      ],
      "metadata": {
        "id": "1Yin_8Ebaa8P"
      },
      "execution_count": null,
      "outputs": []
    },
    {
      "cell_type": "code",
      "source": [
        "q2_results(b, True)"
      ],
      "metadata": {
        "id": "S0jgIgLN8tzd"
      },
      "execution_count": null,
      "outputs": []
    }
  ]
}