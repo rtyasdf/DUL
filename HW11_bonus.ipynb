{
  "nbformat": 4,
  "nbformat_minor": 0,
  "metadata": {
    "colab": {
      "name": "Homework11_selfsupervised2_task.ipynb",
      "provenance": [],
      "collapsed_sections": []
    },
    "kernelspec": {
      "name": "python3",
      "display_name": "Python 3"
    },
    "language_info": {
      "name": "python"
    },
    "accelerator": "GPU"
  },
  "cells": [
    {
      "cell_type": "markdown",
      "metadata": {
        "id": "view-in-github"
      },
      "source": [
        "<a href=\"https://colab.research.google.com/github/GrigoryBartosh/dul_2021/blob/main/Homework/hw11/Homework11_selfsupervised2.ipynb\" target=\"_parent\"><img src=\"https://colab.research.google.com/assets/colab-badge.svg\" alt=\"Open In Colab\"/></a>"
      ]
    },
    {
      "cell_type": "code",
      "source": [
        "!if [ -d dul_2021 ]; then rm -Rf dul_2021; fi\n",
        "!git clone https://github.com/GrigoryBartosh/dul_2021\n",
        "!pip install ./dul_2021"
      ],
      "metadata": {
        "colab": {
          "base_uri": "https://localhost:8080/"
        },
        "id": "4dRz5SIFKfZD",
        "outputId": "d0683a1d-52c6-47ce-c016-4a62147f9ee8"
      },
      "execution_count": 1,
      "outputs": [
        {
          "output_type": "stream",
          "name": "stdout",
          "text": [
            "Cloning into 'dul_2021'...\n",
            "remote: Enumerating objects: 444, done.\u001b[K\n",
            "remote: Counting objects: 100% (202/202), done.\u001b[K\n",
            "remote: Compressing objects: 100% (120/120), done.\u001b[K\n",
            "remote: Total 444 (delta 117), reused 81 (delta 78), pack-reused 242\u001b[K\n",
            "Receiving objects: 100% (444/444), 70.48 MiB | 21.60 MiB/s, done.\n",
            "Resolving deltas: 100% (206/206), done.\n",
            "Processing ./dul_2021\n",
            "\u001b[33m  DEPRECATION: A future pip version will change local packages to be built in-place without first copying to a temporary directory. We recommend you use --use-feature=in-tree-build to test your packages with this new behavior before it becomes the default.\n",
            "   pip 21.3 will remove support for this functionality. You can find discussion regarding this at https://github.com/pypa/pip/issues/7555.\u001b[0m\n",
            "Building wheels for collected packages: dul-2021\n",
            "  Building wheel for dul-2021 (setup.py) ... \u001b[?25l\u001b[?25hdone\n",
            "  Created wheel for dul-2021: filename=dul_2021-0.1.0-py3-none-any.whl size=30522 sha256=bb517f5f79af2d33a697c343e44fff5be2fe92e78888e5a61d0b5b34c5bfe758\n",
            "  Stored in directory: /tmp/pip-ephem-wheel-cache-iz2p47n8/wheels/55/59/29/0fb1c635652157734f4d741f32fc11979149684e83e919de06\n",
            "Successfully built dul-2021\n",
            "Installing collected packages: dul-2021\n",
            "Successfully installed dul-2021-0.1.0\n"
          ]
        }
      ]
    },
    {
      "cell_type": "code",
      "source": [
        "from dul_2021.utils.hw11_utils import *"
      ],
      "metadata": {
        "id": "KjY-iIy5MSZb"
      },
      "execution_count": 2,
      "outputs": []
    },
    {
      "cell_type": "code",
      "source": [
        "device = torch.device(\"cuda\" if torch.cuda.is_available() else \"cpu\")"
      ],
      "metadata": {
        "id": "TXe1bIEownPU"
      },
      "execution_count": 3,
      "outputs": []
    },
    {
      "cell_type": "code",
      "source": [
        "!pip install einops"
      ],
      "metadata": {
        "colab": {
          "base_uri": "https://localhost:8080/"
        },
        "id": "OPz9lI1EAaL8",
        "outputId": "bc91ad9e-2965-4a5e-e445-eb0ba2403b75"
      },
      "execution_count": 4,
      "outputs": [
        {
          "output_type": "stream",
          "name": "stdout",
          "text": [
            "Collecting einops\n",
            "  Downloading einops-0.4.1-py3-none-any.whl (28 kB)\n",
            "Installing collected packages: einops\n",
            "Successfully installed einops-0.4.1\n"
          ]
        }
      ]
    },
    {
      "cell_type": "markdown",
      "source": [
        "# Bonus. SwAV\n",
        "\n",
        "Here we will implement [SwAV](https://arxiv.org/abs/2006.09882v5)\n",
        "\n",
        "**You will provide the following deliverables**\n",
        "\n",
        "\n",
        "1. Over the course of training, record loss ber batch.\n",
        "2. A function that encodes a batch of images with your trained model. The function recieves a batch torch tensors on cpu and should return transformed 2d tensor (batch size x laten dim). It will be used to test representation on classification task."
      ],
      "metadata": {
        "id": "D8UN9nr9aYGx"
      }
    },
    {
      "cell_type": "markdown",
      "source": [
        "## Encoder"
      ],
      "metadata": {
        "id": "OI1gmrEU7_Ka"
      }
    },
    {
      "cell_type": "code",
      "source": [
        "class ConvReluBN(nn.Module):\n",
        "  def __init__(self, in_features, out_features, kernel_size=(3, 3), stride=2, padding=1):\n",
        "    super().__init__()\n",
        "    self.conv = nn.Sequential(nn.Conv2d(in_features, out_features, kernel_size, stride, padding),\n",
        "                              nn.BatchNorm2d(out_features),\n",
        "                              nn.ReLU())\n",
        "\n",
        "  def forward(self, x):\n",
        "    return self.conv(x)"
      ],
      "metadata": {
        "id": "RfDgFT5CSTZm"
      },
      "execution_count": 5,
      "outputs": []
    },
    {
      "cell_type": "code",
      "source": [
        "class Encoder(nn.Module):\n",
        "  def __init__(self, lat_dim=128):\n",
        "    super().__init__()\n",
        "    self.conv = nn.Sequential(ConvReluBN(3, 32, stride=1),\n",
        "                              ConvReluBN(32, 64),\n",
        "                              ConvReluBN(64, 128),\n",
        "                              ConvReluBN(128, 128),\n",
        "                              ConvReluBN(128, 64),\n",
        "                              nn.AdaptiveAvgPool2d(1))\n",
        "    \n",
        "    self.lin = nn.Sequential(nn.Flatten(),\n",
        "                             nn.Linear(64, 256),\n",
        "                             nn.ReLU(),\n",
        "                             nn.Linear(256, lat_dim))\n",
        "\n",
        "  def forward(self, x):\n",
        "    x = self.conv(x)\n",
        "    return self.lin(x)"
      ],
      "metadata": {
        "id": "eggliMyGSYjk"
      },
      "execution_count": 6,
      "outputs": []
    },
    {
      "cell_type": "markdown",
      "source": [
        "## SwAV"
      ],
      "metadata": {
        "id": "4s2o2Lhh8BY5"
      }
    },
    {
      "cell_type": "code",
      "source": [
        "from collections import deque\n",
        "from itertools import chain\n",
        "import einops\n",
        "from torch.optim import Adam\n",
        "import torch.nn.functional as F\n",
        "\n",
        "class SwAV:\n",
        "  def __init__(self, temperature, max_len, num_of_classes, lat_dim=128):\n",
        "    self.l_dim = lat_dim\n",
        "    self.cl_num = num_of_classes\n",
        "    self.temp = 1 / temperature\n",
        "\n",
        "    self.encoder = Encoder(lat_dim).to(device)\n",
        "    self.C = nn.Parameter(torch.randn((lat_dim, num_of_classes), device=device))\n",
        "    self.opt = Adam([*self.encoder.parameters(), self.C], 1e-4)\n",
        "    self.features = deque(maxlen=max_len)\n",
        " \n",
        "    # Transformation for big crops (32 x 32)\n",
        "    self.simple_crop = transforms.Compose([transforms.RandomHorizontalFlip(),\n",
        "                                           transforms.RandomResizedCrop(size=32, scale=(0.5, 1.0)),\n",
        "                                           transforms.Normalize((-1,), (2.0,)),\n",
        "                                           transforms.ColorJitter(0.2, 0.2, 0.2, 0.2),\n",
        "                                           transforms.Normalize((0.5,), (0.5,))])\n",
        "    \n",
        "    # Transformation for small crops (16 x 16)\n",
        "    self.mini_crop = transforms.Compose([transforms.RandomHorizontalFlip(),\n",
        "                                         transforms.RandomResizedCrop(size=16, scale=(0.4, 0.5)),\n",
        "                                         transforms.Normalize((-1,), (2.0,)),\n",
        "                                         transforms.ColorJitter(0.2, 0.2, 0.2, 0.2),\n",
        "                                         transforms.Normalize((0.5,), (0.5,))])\n",
        "\n",
        "  def transforms(self, x):\n",
        "    normal = torch.cat([self.simple_crop(x) for _ in range(2)], dim=0)\n",
        "    mini = torch.cat([self.mini_crop(x) for _ in range(3)], dim=0)\n",
        "    return normal, mini\n",
        "\n",
        "  def sinkhorn_knopp(self, score, ε_inv=20, n_iters=3):\n",
        "    Q = torch.exp(ε_inv * score)\n",
        "    for _ in range(n_iters):\n",
        "      Q = F.normalize(Q, dim=1, p=1.0) / score.shape[1]\n",
        "      Q = F.normalize(Q, dim=0, p=1.0) / score.shape[0]\n",
        "    return F.normalize(Q, dim=1, p=1.0)\n",
        "\n",
        "  def update(self, z):\n",
        "    # Normalize centroids and features\n",
        "    z = F.normalize(z, dim=2)\n",
        "    self.C.data = F.normalize(self.C.data, dim=0)\n",
        "\n",
        "    # Take features of big crops\n",
        "    x = z[:, :2].reshape(-1, self.l_dim)\n",
        "    \n",
        "    # Compute codes using only big crops (and features from previous iterations)\n",
        "    with torch.no_grad():\n",
        "      q_list = []\n",
        "      for j in range(2):\n",
        "        score_q = torch.matmul(torch.cat([x[j::2], *self.features], dim=0), self.C)\n",
        "        q = self.sinkhorn_knopp(score_q).unsqueeze(0)\n",
        "        q_list.append(q)\n",
        "      Q = torch.cat(q_list, dim=0)\n",
        "\n",
        "    # swap loss\n",
        "    score_z = self.temp * torch.matmul(z, self.C)\n",
        "    loss = 0\n",
        "    for j in range(2):\n",
        "      log_sf = F.log_softmax(torch.cat([score_z[:, :j], score_z[:, j+1:]], dim=1), dim=2)\n",
        "      q = Q[j, :z.shape[0]].unsqueeze(1)\n",
        "      q = q.expand(-1, 4, -1)\n",
        "      loss -= (log_sf * q).mean(dim=(0, 1))\n",
        "    \n",
        "    # Reduction\n",
        "    loss = loss.sum()\n",
        "\n",
        "    self.opt.zero_grad()\n",
        "    loss.backward()\n",
        "    self.opt.step()\n",
        "\n",
        "    # Append computed features to buffer \n",
        "    self.features.appendleft(x)\n",
        "\n",
        "    return loss.item()"
      ],
      "metadata": {
        "id": "n9mUJvHeTBiO"
      },
      "execution_count": 25,
      "outputs": []
    },
    {
      "cell_type": "markdown",
      "source": [
        "## Hyperparameters"
      ],
      "metadata": {
        "id": "Q7rpjL5b8H1r"
      }
    },
    {
      "cell_type": "code",
      "source": [
        "batch_size = 128\n",
        "n_epochs = 10\n",
        "\n",
        "lat_dim = 128\n",
        "temperature = .1\n",
        "num_of_centroids = 128\n",
        "buf_size = 5"
      ],
      "metadata": {
        "id": "FCI5YC0IjkkK"
      },
      "execution_count": 32,
      "outputs": []
    },
    {
      "cell_type": "code",
      "source": [
        "from torch.utils.data import DataLoader\n",
        "\n",
        "train_cifar, _ = get_data('CIFAR10')\n",
        "train_data = DataLoader(train_cifar, batch_size=batch_size, shuffle=True)"
      ],
      "metadata": {
        "colab": {
          "base_uri": "https://localhost:8080/"
        },
        "id": "6OR977_Si3c3",
        "outputId": "d7c2916b-d089-40ee-dc86-7a402d54229a"
      },
      "execution_count": 33,
      "outputs": [
        {
          "output_type": "stream",
          "name": "stdout",
          "text": [
            "Files already downloaded and verified\n",
            "Files already downloaded and verified\n"
          ]
        }
      ]
    },
    {
      "cell_type": "markdown",
      "source": [
        "## Define model"
      ],
      "metadata": {
        "id": "Hs5IUR4y9F6i"
      }
    },
    {
      "cell_type": "code",
      "source": [
        "model = SwAV(temperature, buf_size, num_of_centroids, lat_dim)\n",
        "\n",
        "# Initialize feature buffer\n",
        "for (x, _), _ in zip(train_data, range(buf_size)):\n",
        "  t, _ = model.transforms(x.to(device))\n",
        "  with torch.no_grad():\n",
        "    z = model.encoder(t)\n",
        "    z = einops.rearrange(z, '(v b) l -> (b v) l', v=2)\n",
        "    z = F.normalize(z, dim=1)\n",
        "  model.features.appendleft(z)"
      ],
      "metadata": {
        "id": "rLfVm7lLjrs9"
      },
      "execution_count": 34,
      "outputs": []
    },
    {
      "cell_type": "markdown",
      "source": [
        "## Train loop"
      ],
      "metadata": {
        "id": "4UC5905p9JlP"
      }
    },
    {
      "cell_type": "code",
      "source": [
        "loss_record = []\n",
        "\n",
        "for epoch in range(n_epochs):\n",
        "  for x, _ in train_data:\n",
        "    t_normal, t_mini = model.transforms(x.to(device))\n",
        "\n",
        "    z_normal = model.encoder(t_normal)\n",
        "    z_normal = einops.rearrange(z_normal, '(v b) l -> b v l', v=2)\n",
        "\n",
        "    z_mini = model.encoder(t_mini)\n",
        "    z_mini = einops.rearrange(z_mini, '(v b) l -> b v l', v=3)\n",
        "\n",
        "    z = torch.cat([z_normal, z_mini], dim=1)\n",
        "\n",
        "    loss = model.update(z)\n",
        "    loss_record.append(loss)\n",
        "\n",
        "  print(f\"EPOCH: {epoch}\")\n",
        "  print(f\"\\t loss : {sum(loss_record[-50:]):.5f}\")"
      ],
      "metadata": {
        "colab": {
          "base_uri": "https://localhost:8080/"
        },
        "id": "ZEdaoXT-dYLB",
        "outputId": "3c69af02-e522-44b5-a018-17099857221b"
      },
      "execution_count": 29,
      "outputs": [
        {
          "output_type": "stream",
          "name": "stdout",
          "text": [
            "EPOCH: 0\n",
            "\t loss : 381.01787\n",
            "EPOCH: 1\n",
            "\t loss : 346.47738\n",
            "EPOCH: 2\n",
            "\t loss : 326.51877\n",
            "EPOCH: 3\n",
            "\t loss : 311.75457\n",
            "EPOCH: 4\n",
            "\t loss : 299.17268\n",
            "EPOCH: 5\n",
            "\t loss : 287.05946\n",
            "EPOCH: 6\n",
            "\t loss : 279.69062\n",
            "EPOCH: 7\n",
            "\t loss : 274.80334\n",
            "EPOCH: 8\n",
            "\t loss : 268.49274\n",
            "EPOCH: 9\n",
            "\t loss : 259.21014\n"
          ]
        }
      ]
    },
    {
      "cell_type": "markdown",
      "source": [
        "## Results"
      ],
      "metadata": {
        "id": "SUAfAe529LOL"
      }
    },
    {
      "cell_type": "code",
      "source": [
        "def b(train_data, test_data):\n",
        "    \"\"\"\n",
        "    train_data: An (n_train, 1, 32, 32) torchvision dataset of CIFAR10 images with values from -1 to 1\n",
        "\n",
        "    Returns\n",
        "    - a (# of training iterations, ) numpy array  losses on each iteration\n",
        "    - a function that transforms batch of images into their latent representation\n",
        "    \"\"\"\n",
        "    model.encoder.eval()\n",
        "    enc = model.encoder.to(\"cpu\")\n",
        "    return np.array(loss_record), lambda t: F.normalize(enc(t), dim=1)"
      ],
      "metadata": {
        "id": "1Yin_8Ebaa8P"
      },
      "execution_count": 30,
      "outputs": []
    },
    {
      "cell_type": "code",
      "source": [
        "q2_results(b, True)"
      ],
      "metadata": {
        "id": "S0jgIgLN8tzd",
        "colab": {
          "base_uri": "https://localhost:8080/",
          "height": 347
        },
        "outputId": "12d3934e-1c92-40d5-e3dd-52b4ecad73a4"
      },
      "execution_count": 31,
      "outputs": [
        {
          "output_type": "stream",
          "name": "stdout",
          "text": [
            "Files already downloaded and verified\n",
            "Files already downloaded and verified\n",
            "mean classification accuracy=0.4414\n"
          ]
        },
        {
          "output_type": "display_data",
          "data": {
            "text/plain": [
              "<Figure size 432x288 with 1 Axes>"
            ],
            "image/png": "[encoded data removed]"
          },
          "metadata": {
            "needs_background": "light"
          }
        }
      ]
    }
  ]
}