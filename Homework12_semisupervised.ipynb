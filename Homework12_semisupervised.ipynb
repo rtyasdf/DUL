{
  "nbformat": 4,
  "nbformat_minor": 0,
  "metadata": {
    "colab": {
      "name": "Homework12_semisupervised.ipynb",
      "provenance": [],
      "collapsed_sections": []
    },
    "kernelspec": {
      "name": "python3",
      "display_name": "Python 3"
    },
    "language_info": {
      "name": "python"
    },
    "accelerator": "GPU"
  },
  "cells": [
    {
      "cell_type": "markdown",
      "metadata": {
        "id": "view-in-github"
      },
      "source": [
        "<a href=\"https://colab.research.google.com/github/GrigoryBartosh/dul_2021/blob/main/Homework/hw12/Homework12_semisupervised.ipynb\" target=\"_parent\"><img src=\"https://colab.research.google.com/assets/colab-badge.svg\" alt=\"Open In Colab\"/></a>"
      ]
    },
    {
      "cell_type": "code",
      "source": [
        "!if [ -d dul_2021 ]; then rm -Rf dul_2021; fi\n",
        "!git clone https://github.com/GrigoryBartosh/dul_2021\n",
        "!pip install ./dul_2021"
      ],
      "metadata": {
        "id": "vEPPrGksax7-",
        "colab": {
          "base_uri": "https://localhost:8080/"
        },
        "outputId": "c9b7fd17-2957-4dc4-b8f2-673bec0d4081"
      },
      "execution_count": 1,
      "outputs": [
        {
          "output_type": "stream",
          "name": "stdout",
          "text": [
            "Cloning into 'dul_2021'...\n",
            "remote: Enumerating objects: 384, done.\u001b[K\n",
            "remote: Counting objects: 100% (221/221), done.\u001b[K\n",
            "remote: Compressing objects: 100% (147/147), done.\u001b[K\n",
            "remote: Total 384 (delta 124), reused 101 (delta 67), pack-reused 163\u001b[K\n",
            "Receiving objects: 100% (384/384), 55.90 MiB | 15.92 MiB/s, done.\n",
            "Resolving deltas: 100% (181/181), done.\n",
            "Processing ./dul_2021\n",
            "\u001b[33m  DEPRECATION: A future pip version will change local packages to be built in-place without first copying to a temporary directory. We recommend you use --use-feature=in-tree-build to test your packages with this new behavior before it becomes the default.\n",
            "   pip 21.3 will remove support for this functionality. You can find discussion regarding this at https://github.com/pypa/pip/issues/7555.\u001b[0m\n",
            "Building wheels for collected packages: dul-2021\n",
            "  Building wheel for dul-2021 (setup.py) ... \u001b[?25l\u001b[?25hdone\n",
            "  Created wheel for dul-2021: filename=dul_2021-0.1.0-py3-none-any.whl size=27640 sha256=ea08bf5d16f5884b0caaf67ed9e07ad355228630f574f134ace26d58e3c3741c\n",
            "  Stored in directory: /tmp/pip-ephem-wheel-cache-ognub5yt/wheels/55/59/29/0fb1c635652157734f4d741f32fc11979149684e83e919de06\n",
            "Successfully built dul-2021\n",
            "Installing collected packages: dul-2021\n",
            "Successfully installed dul-2021-0.1.0\n"
          ]
        }
      ]
    },
    {
      "cell_type": "code",
      "source": [
        "from dul_2021.utils.hw12_utils import *"
      ],
      "metadata": {
        "id": "VUu3B_L7azpr"
      },
      "execution_count": 2,
      "outputs": []
    },
    {
      "cell_type": "code",
      "source": [
        "device = torch.device(\"cuda\" if torch.cuda.is_available() else \"cpu\")"
      ],
      "metadata": {
        "id": "4qVrtDAZONRg"
      },
      "execution_count": 3,
      "outputs": []
    },
    {
      "cell_type": "code",
      "source": [
        "import torch\n",
        "import torch.nn as nn\n",
        "import numpy as np\n",
        "import torch.autograd as autograd"
      ],
      "metadata": {
        "id": "XuYsPraEMVE-"
      },
      "execution_count": 4,
      "outputs": []
    },
    {
      "cell_type": "markdown",
      "source": [
        "# Question 1. VAT\n",
        "\n",
        "Here we will implement [VAT](https://arxiv.org/pdf/1704.03976.pdf).\n",
        "\n",
        "* Train labeled data with standatd cross-entropy loss\n",
        "\n",
        "* Use vat regularization for both unlabeled and labeled data\n",
        "\n",
        "* You can use architecture from practice\n",
        "\n",
        "* Dataset comes as pairs `x, y`. `x` is an image from CIFAR10. `y` is a label from `[0, 10]` if datapoint is labeled and `-1` otherwise.\n",
        "\n",
        "**Hyperparameters**\n",
        "\n",
        "* ξ= 10 \n",
        "* lr = 5e-4\n",
        "* num_epochs = 15\n",
        "\n",
        "\n",
        "\n",
        "**You will provide the following deliverables**\n",
        "\n",
        "\n",
        "1. Over the course of training, record loss per batch.\n",
        "2. After each epoch calculate accuracy on test data."
      ],
      "metadata": {
        "id": "qo4zHxLOv5rX"
      }
    },
    {
      "cell_type": "markdown",
      "source": [
        "## Main class"
      ],
      "metadata": {
        "id": "OWjeqvHLlG6A"
      }
    },
    {
      "cell_type": "code",
      "source": [
        "class Classifier(nn.Module):\n",
        "  def __init__(self, flag=True):\n",
        "    super().__init__()\n",
        "    self.conv = nn.Sequential(nn.Conv2d(3, 32, 3, 1),\n",
        "                              nn.ReLU(),\n",
        "                              nn.Conv2d(32, 64, 3, 2, 1),\n",
        "                              nn.ReLU(),\n",
        "                              nn.Conv2d(64, 64, 3, 2, 1),\n",
        "                              nn.ReLU(),\n",
        "                              nn.Conv2d(64, 128, 3, 2, 1),\n",
        "                              nn.ReLU(),\n",
        "                              nn.Conv2d(128, 128, 3, 2, 1),\n",
        "                              nn.ReLU(),\n",
        "                              nn.Conv2d(128, 128, 3, 2, 1),\n",
        "                              nn.ReLU())\n",
        "    \n",
        "    self.final = nn.Sequential(nn.Flatten(), \n",
        "                               nn.Linear(128, 128), \n",
        "                               nn.ReLU(),\n",
        "                               nn.Linear(128, 10))\n",
        "    \n",
        "    if flag:\n",
        "      self.final = nn.Sequential(self.final, nn.Softmax(dim=1))\n",
        "    \n",
        "  def forward(self, x):\n",
        "    x = self.conv(x)\n",
        "    return self.final(x)"
      ],
      "metadata": {
        "id": "LG1aJfP9lHdp"
      },
      "execution_count": 5,
      "outputs": []
    },
    {
      "cell_type": "markdown",
      "source": [
        "## Hyperparameters"
      ],
      "metadata": {
        "id": "b6MVojo3lT7y"
      }
    },
    {
      "cell_type": "code",
      "source": [
        "labeled_batch_size = 50\n",
        "all_batch_size = 200\n",
        "\n",
        "ε = 10\n",
        "n_epochs = 35"
      ],
      "metadata": {
        "id": "79mE7xhYlVjB"
      },
      "execution_count": 25,
      "outputs": []
    },
    {
      "cell_type": "markdown",
      "source": [
        "## Load data"
      ],
      "metadata": {
        "id": "VU0H1EqSlN4x"
      }
    },
    {
      "cell_type": "code",
      "source": [
        "train_data, test_dataset = get_data('CIFAR10')\n",
        "train_data, test_dataset = SSDataset(train_data), SSDataset(test_dataset, train=False)"
      ],
      "metadata": {
        "colab": {
          "base_uri": "https://localhost:8080/"
        },
        "id": "U_pCslqNlOQe",
        "outputId": "bdefe583-ea1f-46f1-b91e-916658ee59b8"
      },
      "execution_count": 26,
      "outputs": [
        {
          "output_type": "stream",
          "name": "stdout",
          "text": [
            "Files already downloaded and verified\n",
            "Files already downloaded and verified\n"
          ]
        }
      ]
    },
    {
      "cell_type": "code",
      "source": [
        "from torch.utils.data import DataLoader, Subset\n",
        "\n",
        "labeled_idx = [i for i, t in enumerate(train_data) if t[1] != -1]\n",
        "labeled_subset = Subset(train_data, labeled_idx)\n",
        "\n",
        "labeled_data = DataLoader(labeled_subset, \n",
        "                          batch_size=labeled_batch_size, \n",
        "                          shuffle=True)\n",
        "\n",
        "all_data = DataLoader(train_data,\n",
        "                      batch_size=all_batch_size,\n",
        "                      shuffle=True)\n",
        "\n",
        "test_data = DataLoader(test_dataset,\n",
        "                       batch_size=256)"
      ],
      "metadata": {
        "id": "5x0-My9188eZ"
      },
      "execution_count": 27,
      "outputs": []
    },
    {
      "cell_type": "markdown",
      "source": [
        "## Transformation"
      ],
      "metadata": {
        "id": "XtfZuQP3hUPU"
      }
    },
    {
      "cell_type": "code",
      "source": [
        "import torchvision.transforms as transforms\n",
        "\n",
        "transform = transforms.Compose([transforms.RandomHorizontalFlip(),\n",
        "                               transforms.RandomAffine(0, translate=(7e-2, 7e-2))])"
      ],
      "metadata": {
        "id": "L34c-GSTAvMv"
      },
      "execution_count": 28,
      "outputs": []
    },
    {
      "cell_type": "markdown",
      "source": [
        "## Define model, loss and optimizer"
      ],
      "metadata": {
        "id": "W7HwjxDjmpg-"
      }
    },
    {
      "cell_type": "code",
      "source": [
        "from torch.optim import Adam\n",
        "from torch.nn.functional import normalize, kl_div\n",
        "\n",
        "model = Classifier().to(device)\n",
        "opt = Adam(model.parameters(), 5e-4)\n",
        "\n",
        "nll = nn.NLLLoss()"
      ],
      "metadata": {
        "id": "FXMuM6zYmpL9"
      },
      "execution_count": 29,
      "outputs": []
    },
    {
      "cell_type": "markdown",
      "source": [
        "## Train loop"
      ],
      "metadata": {
        "id": "kuMZUuS9lOnH"
      }
    },
    {
      "cell_type": "code",
      "source": [
        "loss_record = []\n",
        "Accuracy = []\n",
        "\n",
        "g_out = torch.ones((all_batch_size, ), device=device)\n",
        "offset_shape = (all_batch_size, 3, 32, 32)"
      ],
      "metadata": {
        "id": "DjI6OjefFH1z"
      },
      "execution_count": 30,
      "outputs": []
    },
    {
      "cell_type": "code",
      "source": [
        "for epoch in range(n_epochs):\n",
        "  for l_batch, a_batch in zip(labeled_data, all_data):\n",
        "    \n",
        "    # Batches to device\n",
        "    X = transform(a_batch[0]).to(device)\n",
        "    Y = transform(l_batch[0]).to(device)\n",
        "    \n",
        "    target = l_batch[1].to(device)\n",
        "    \n",
        "    # Initialize random unit vectors\n",
        "    r = torch.randn(offset_shape, device=device)\n",
        "    \n",
        "    # L2 Normalization\n",
        "    r = r.reshape((all_batch_size, -1))\n",
        "    r = normalize(r)\n",
        "    r = r.reshape(offset_shape)\n",
        "    \n",
        "    # Take D_kl\n",
        "    r.requires_grad = True\n",
        "    offset = model(X + ε * r)\n",
        "    dist = model(X)\n",
        "    dkl = -kl_div(torch.log(offset), dist, reduction='none').sum(dim=1)\n",
        "\n",
        "    # Find argmax D_kl w.r.t. perturbation\n",
        "    r = autograd.grad(dkl, r, grad_outputs=g_out)[0]\n",
        "    \n",
        "    # L2 Normalization\n",
        "    r = r.reshape((all_batch_size, -1))\n",
        "    r = normalize(r)\n",
        "    r = r.reshape(offset_shape)\n",
        "\n",
        "    # LDS\n",
        "    offset = model(X + r)\n",
        "    lds = kl_div(torch.log(offset), dist, reduction='batchmean')\n",
        "    \n",
        "    # Loss on labeled data\n",
        "    clf_loss = nll(torch.log(model(Y)), target)\n",
        "\n",
        "    loss = clf_loss + lds\n",
        "    loss_record.append(loss.item())\n",
        "\n",
        "    opt.zero_grad()\n",
        "    loss.backward() \n",
        "    opt.step()\n",
        "\n",
        "  # Compute accuracy on test dataset\n",
        "  acc = 0\n",
        "  for batch in test_data:\n",
        "    X = batch[0].to(device)\n",
        "    label = batch[1].to(device)\n",
        "    \n",
        "    with torch.no_grad():\n",
        "      out = torch.argmax(model(X), dim=1)\n",
        "    acc += (out == label).sum().item()\n",
        "\n",
        "  Accuracy.append(acc / len(test_dataset))\n",
        "  \n",
        "  print(f\"Epoch {epoch}\")\n",
        "  print(f\"\\t loss = {np.sum(loss_record[-100:])}\")\n",
        "  print(f\"\\t accuracy = {Accuracy[-1]}\")"
      ],
      "metadata": {
        "colab": {
          "base_uri": "https://localhost:8080/"
        },
        "id": "JPgorvrllPC0",
        "outputId": "57ab5cca-6fdd-4873-f0b3-0265edc34c84"
      },
      "execution_count": 31,
      "outputs": [
        {
          "output_type": "stream",
          "name": "stdout",
          "text": [
            "Epoch 0\n",
            "\t loss = 173.3029146194458\n",
            "\t accuracy = 0.2454\n",
            "Epoch 1\n",
            "\t loss = 203.71665394306183\n",
            "\t accuracy = 0.2595\n",
            "Epoch 2\n",
            "\t loss = 197.33414351940155\n",
            "\t accuracy = 0.2972\n",
            "Epoch 3\n",
            "\t loss = 187.2830115556717\n",
            "\t accuracy = 0.336\n",
            "Epoch 4\n",
            "\t loss = 181.34288370609283\n",
            "\t accuracy = 0.3539\n",
            "Epoch 5\n",
            "\t loss = 173.35428643226624\n",
            "\t accuracy = 0.3832\n",
            "Epoch 6\n",
            "\t loss = 166.61458456516266\n",
            "\t accuracy = 0.4039\n",
            "Epoch 7\n",
            "\t loss = 162.11484467983246\n",
            "\t accuracy = 0.4035\n",
            "Epoch 8\n",
            "\t loss = 158.39311301708221\n",
            "\t accuracy = 0.4209\n",
            "Epoch 9\n",
            "\t loss = 154.6311960220337\n",
            "\t accuracy = 0.4432\n",
            "Epoch 10\n",
            "\t loss = 151.62764179706573\n",
            "\t accuracy = 0.4416\n",
            "Epoch 11\n",
            "\t loss = 149.17859756946564\n",
            "\t accuracy = 0.4499\n",
            "Epoch 12\n",
            "\t loss = 147.99949645996094\n",
            "\t accuracy = 0.4438\n",
            "Epoch 13\n",
            "\t loss = 145.00837230682373\n",
            "\t accuracy = 0.4719\n",
            "Epoch 14\n",
            "\t loss = 140.85620152950287\n",
            "\t accuracy = 0.4792\n",
            "Epoch 15\n",
            "\t loss = 137.71346932649612\n",
            "\t accuracy = 0.4782\n",
            "Epoch 16\n",
            "\t loss = 134.71595656871796\n",
            "\t accuracy = 0.4836\n",
            "Epoch 17\n",
            "\t loss = 131.20035010576248\n",
            "\t accuracy = 0.4926\n",
            "Epoch 18\n",
            "\t loss = 130.295192360878\n",
            "\t accuracy = 0.4967\n",
            "Epoch 19\n",
            "\t loss = 125.82084703445435\n",
            "\t accuracy = 0.4876\n",
            "Epoch 20\n",
            "\t loss = 124.1388486623764\n",
            "\t accuracy = 0.4911\n",
            "Epoch 21\n",
            "\t loss = 123.86189758777618\n",
            "\t accuracy = 0.5018\n",
            "Epoch 22\n",
            "\t loss = 121.48334616422653\n",
            "\t accuracy = 0.4946\n",
            "Epoch 23\n",
            "\t loss = 117.17966997623444\n",
            "\t accuracy = 0.5164\n",
            "Epoch 24\n",
            "\t loss = 112.97784972190857\n",
            "\t accuracy = 0.5255\n",
            "Epoch 25\n",
            "\t loss = 110.42426407337189\n",
            "\t accuracy = 0.5138\n",
            "Epoch 26\n",
            "\t loss = 106.34445089101791\n",
            "\t accuracy = 0.5207\n",
            "Epoch 27\n",
            "\t loss = 105.96877759695053\n",
            "\t accuracy = 0.5212\n",
            "Epoch 28\n",
            "\t loss = 103.94655054807663\n",
            "\t accuracy = 0.5223\n",
            "Epoch 29\n",
            "\t loss = 102.0532101392746\n",
            "\t accuracy = 0.52\n",
            "Epoch 30\n",
            "\t loss = 98.94525790214539\n",
            "\t accuracy = 0.5259\n",
            "Epoch 31\n",
            "\t loss = 97.16556841135025\n",
            "\t accuracy = 0.5187\n",
            "Epoch 32\n",
            "\t loss = 94.50486308336258\n",
            "\t accuracy = 0.5251\n",
            "Epoch 33\n",
            "\t loss = 93.77017468214035\n",
            "\t accuracy = 0.5325\n",
            "Epoch 34\n",
            "\t loss = 89.4243655204773\n",
            "\t accuracy = 0.5288\n"
          ]
        }
      ]
    },
    {
      "cell_type": "markdown",
      "source": [
        "## Result"
      ],
      "metadata": {
        "id": "nvQZJhpDlYtc"
      }
    },
    {
      "cell_type": "code",
      "source": [
        "def q1(train_data, test_data):\n",
        "    \"\"\"\n",
        "    train_data: An (n_train, 3, 32, 32) torchvision dataset of CIFAR10 images with values from -1 to 1\n",
        "\n",
        "    Returns\n",
        "    - a (# of training iterations, ) numpy array  losses on each iteration\n",
        "    - a (# of training epochs, ) numpy array accuracies on each epoch\n",
        "    \"\"\"\n",
        "    return loss_record, Accuracy"
      ],
      "metadata": {
        "id": "v3neKPxpZImJ"
      },
      "execution_count": 32,
      "outputs": []
    },
    {
      "cell_type": "code",
      "source": [
        "q12_results(q1)"
      ],
      "metadata": {
        "colab": {
          "base_uri": "https://localhost:8080/",
          "height": 608
        },
        "id": "saxnnzOCzkMx",
        "outputId": "713b6d14-6573-4382-e7a3-c176b7c583df"
      },
      "execution_count": 33,
      "outputs": [
        {
          "output_type": "stream",
          "name": "stdout",
          "text": [
            "Files already downloaded and verified\n",
            "Files already downloaded and verified\n"
          ]
        },
        {
          "output_type": "display_data",
          "data": {
            "image/png": "[encoded data removed]",
            "text/plain": [
              "<Figure size 432x288 with 1 Axes>"
            ]
          },
          "metadata": {
            "needs_background": "light"
          }
        },
        {
          "output_type": "display_data",
          "data": {
            "image/png": "[encoded data removed]",
            "text/plain": [
              "<Figure size 432x288 with 1 Axes>"
            ]
          },
          "metadata": {
            "needs_background": "light"
          }
        }
      ]
    },
    {
      "cell_type": "markdown",
      "source": [
        "# Question 2. FixMatch\n",
        "\n",
        "Here we will implement [FixMatch](https://arxiv.org/abs/2001.07685).\n",
        "\n",
        "* Calculate loss on weakly augmented labeled data with standatd cross-entropy loss\n",
        "\n",
        "* Calculate loss on strongly augmented unlabeled data with standatd cross-entropy loss with pseudo-lables\n",
        "\n",
        "* Use SimCLR transformations as strong and RandomHorizontalFlip as weak\n",
        "\n",
        "* You can use architecture from practice\n",
        "\n",
        "* Dataset comes as pairs `x, y`. `x` is an image from CIFAR10. `y` is a label from `[0, 10]` if datapoint is labeled and `-1` otherwise.\n",
        "\n",
        "**Hyperparameters**\n",
        "\n",
        "* τ = 0.7 \n",
        "* λ_u = 10 (weight of unlabeled loss)\n",
        "* lr = 5e-4\n",
        "* num_epochs ~ 20 or more\n",
        "\n",
        "\n",
        "\n",
        "**You will provide the following deliverables**\n",
        "\n",
        "\n",
        "1. Over the course of training, record loss ber batch.\n",
        "2. After each epoch calculate accuracy on test data."
      ],
      "metadata": {
        "id": "zxgc1UFd_cpi"
      }
    },
    {
      "cell_type": "markdown",
      "source": [
        "## Augmentations"
      ],
      "metadata": {
        "id": "zeJ_C9SbK7PZ"
      }
    },
    {
      "cell_type": "code",
      "source": [
        "import torchvision.transforms as transforms\n",
        "\n",
        "strong_transform = transforms.Compose([transforms.RandomHorizontalFlip(),\n",
        "                                       transforms.RandomResizedCrop(size=32, scale=(0.5, 1.0)),\n",
        "                                       transforms.Normalize((-1,), (2.0,)),\n",
        "                                       transforms.ColorJitter(0.3, 0.3, 0.3, 0.3),\n",
        "                                       transforms.Normalize((0.5,), (0.5,))])\n",
        "\n",
        "weak_transform = transforms.RandomHorizontalFlip()"
      ],
      "metadata": {
        "id": "9mw1fm0iK9qQ"
      },
      "execution_count": 6,
      "outputs": []
    },
    {
      "cell_type": "markdown",
      "source": [
        "## Hyperparameters"
      ],
      "metadata": {
        "id": "WjdXTmQZLD41"
      }
    },
    {
      "cell_type": "code",
      "source": [
        "τ = 0.7\n",
        "n_epochs = 20\n",
        "batch_size = 64\n",
        "μ = 7"
      ],
      "metadata": {
        "id": "Ga1zd3aDLEVO"
      },
      "execution_count": 7,
      "outputs": []
    },
    {
      "cell_type": "markdown",
      "source": [
        "## Load data"
      ],
      "metadata": {
        "id": "G3H_JTIyRTRk"
      }
    },
    {
      "cell_type": "code",
      "source": [
        "train_data, test_dataset = get_data('CIFAR10')\n",
        "train_data, test_dataset = SSDataset(train_data), SSDataset(test_dataset, train=False)"
      ],
      "metadata": {
        "colab": {
          "base_uri": "https://localhost:8080/"
        },
        "id": "MbDyfXIIRTtW",
        "outputId": "2a8ad038-48a1-4056-86b1-9a60ef9bbdd9"
      },
      "execution_count": 36,
      "outputs": [
        {
          "output_type": "stream",
          "name": "stdout",
          "text": [
            "Files already downloaded and verified\n",
            "Files already downloaded and verified\n"
          ]
        }
      ]
    },
    {
      "cell_type": "code",
      "source": [
        "from torch.utils.data import DataLoader, Subset\n",
        "\n",
        "labeled_idx = [i for i, t in enumerate(train_data) if t[1] != -1]\n",
        "labeled_subset = Subset(train_data, labeled_idx)\n",
        "\n",
        "labeled_data = DataLoader(labeled_subset, \n",
        "                          batch_size=batch_size, \n",
        "                          shuffle=True)\n",
        "\n",
        "all_data = DataLoader(train_data,\n",
        "                      batch_size=μ * batch_size,\n",
        "                      shuffle=True)\n",
        "\n",
        "test_data = DataLoader(test_dataset,\n",
        "                       batch_size=256)"
      ],
      "metadata": {
        "id": "Uk3Oo2daRde5"
      },
      "execution_count": 37,
      "outputs": []
    },
    {
      "cell_type": "markdown",
      "source": [
        "## Define model, loss and optimizer"
      ],
      "metadata": {
        "id": "B16pGVBtLG0S"
      }
    },
    {
      "cell_type": "code",
      "source": [
        "from torch.optim import Adam\n",
        "\n",
        "model = Classifier(flag=False).to(device)\n",
        "opt = Adam(model.parameters(), 5e-4)\n",
        "\n",
        "ces = nn.CrossEntropyLoss() "
      ],
      "metadata": {
        "id": "fBDOHZYmLHXg"
      },
      "execution_count": 38,
      "outputs": []
    },
    {
      "cell_type": "markdown",
      "source": [
        "## Train loop"
      ],
      "metadata": {
        "id": "vJFyBPzXLcYX"
      }
    },
    {
      "cell_type": "code",
      "source": [
        "from torch.nn.functional import softmax as sf\n",
        "loss_record = []\n",
        "Accuracy = []"
      ],
      "metadata": {
        "id": "wGiRBVntLb1c"
      },
      "execution_count": 39,
      "outputs": []
    },
    {
      "cell_type": "code",
      "source": [
        "for epoch in range(n_epochs):\n",
        "  for l_batch, a_batch in zip(labeled_data, all_data):\n",
        "    \n",
        "    # Loss on (unlabeled + labeled) batch\n",
        "    Y = weak_transform(a_batch[0]).to(device)\n",
        "    logit = model(Y)\n",
        "    prob_max, max_id = torch.max(sf(logit), dim=1)\n",
        "\n",
        "    threshold_id = np.where(prob_max.cpu() > τ)[0]\n",
        "    pseudo_label = max_id[threshold_id]\n",
        " \n",
        "    if pseudo_label.nelement():\n",
        "      Z = strong_transform(a_batch[0][threshold_id]).to(device)\n",
        "      loss = ces(model(Z), pseudo_label)\n",
        "    else:\n",
        "      loss = 0\n",
        "\n",
        "    # Loss on labeled batch\n",
        "    X = weak_transform(l_batch[0]).to(device)\n",
        "    target = l_batch[1].to(device)\n",
        "\n",
        "    loss += ces(model(X), target)\n",
        "    \n",
        "    opt.zero_grad()\n",
        "    loss.backward()\n",
        "    opt.step()\n",
        "\n",
        "    loss_record.append(loss.item())\n",
        "\n",
        "  # Compute accuracy on test dataset\n",
        "  acc = 0\n",
        "  for batch in test_data:\n",
        "    X = batch[0].to(device)\n",
        "    labels = batch[1].to(device)\n",
        "\n",
        "    with torch.no_grad():\n",
        "      idx = torch.argmax(model(X), 1)\n",
        "    acc += (idx == labels).sum().item()\n",
        "  \n",
        "  Accuracy.append(acc / len(test_dataset))\n",
        "  print(f\"Epoch {epoch}\")\n",
        "  print(f\"\\t loss = {np.sum(loss_record[-100:])}\")\n",
        "  print(f\"\\t accuracy = {Accuracy[-1]}\")"
      ],
      "metadata": {
        "colab": {
          "base_uri": "https://localhost:8080/"
        },
        "id": "O3jTiAwMRL3-",
        "outputId": "9afd66da-4b7b-4a3a-94ff-8a64f0c2d252"
      },
      "execution_count": 40,
      "outputs": [
        {
          "output_type": "stream",
          "name": "stderr",
          "text": [
            "/usr/local/lib/python3.7/dist-packages/ipykernel_launcher.py:6: UserWarning: Implicit dimension choice for softmax has been deprecated. Change the call to include dim=X as an argument.\n",
            "  \n"
          ]
        },
        {
          "output_type": "stream",
          "name": "stdout",
          "text": [
            "Epoch 0\n",
            "\t loss = 155.1224924325943\n",
            "\t accuracy = 0.1737\n",
            "Epoch 1\n",
            "\t loss = 261.52350175380707\n",
            "\t accuracy = 0.2261\n",
            "Epoch 2\n",
            "\t loss = 250.24270260334015\n",
            "\t accuracy = 0.2352\n",
            "Epoch 3\n",
            "\t loss = 236.2750654220581\n",
            "\t accuracy = 0.262\n",
            "Epoch 4\n",
            "\t loss = 235.17247474193573\n",
            "\t accuracy = 0.2313\n",
            "Epoch 5\n",
            "\t loss = 250.60419631004333\n",
            "\t accuracy = 0.2464\n",
            "Epoch 6\n",
            "\t loss = 245.52798569202423\n",
            "\t accuracy = 0.3038\n",
            "Epoch 7\n",
            "\t loss = 231.05594432353973\n",
            "\t accuracy = 0.3307\n",
            "Epoch 8\n",
            "\t loss = 237.43144607543945\n",
            "\t accuracy = 0.3259\n",
            "Epoch 9\n",
            "\t loss = 238.48575973510742\n",
            "\t accuracy = 0.3312\n",
            "Epoch 10\n",
            "\t loss = 235.69372498989105\n",
            "\t accuracy = 0.3742\n",
            "Epoch 11\n",
            "\t loss = 232.55876755714417\n",
            "\t accuracy = 0.3796\n",
            "Epoch 12\n",
            "\t loss = 231.06526219844818\n",
            "\t accuracy = 0.4067\n",
            "Epoch 13\n",
            "\t loss = 232.5511634349823\n",
            "\t accuracy = 0.3677\n",
            "Epoch 14\n",
            "\t loss = 229.4281848669052\n",
            "\t accuracy = 0.4022\n",
            "Epoch 15\n",
            "\t loss = 217.68480563163757\n",
            "\t accuracy = 0.4086\n",
            "Epoch 16\n",
            "\t loss = 213.68468856811523\n",
            "\t accuracy = 0.4256\n",
            "Epoch 17\n",
            "\t loss = 205.78843998908997\n",
            "\t accuracy = 0.4348\n",
            "Epoch 18\n",
            "\t loss = 205.14888548851013\n",
            "\t accuracy = 0.4409\n",
            "Epoch 19\n",
            "\t loss = 200.22301709651947\n",
            "\t accuracy = 0.4433\n"
          ]
        }
      ]
    },
    {
      "cell_type": "markdown",
      "source": [
        "## Results"
      ],
      "metadata": {
        "id": "WqTOvUfdK-Du"
      }
    },
    {
      "cell_type": "code",
      "source": [
        "def q2(train_data, test_data):\n",
        "    \"\"\"\n",
        "    train_data: An (n_train, 3, 32, 32) torchvision dataset of CIFAR10 images with values from -1 to 1\n",
        "\n",
        "    Returns\n",
        "    - a (# of training iterations, ) numpy array  losses on each iteration\n",
        "    - a (# of training epochs, ) numpy array accuracies on each epoch\n",
        "    \"\"\"\n",
        "    return loss_record, Accuracy"
      ],
      "metadata": {
        "id": "UZGq-KG9abw3"
      },
      "execution_count": 41,
      "outputs": []
    },
    {
      "cell_type": "code",
      "source": [
        "q12_results(q2)"
      ],
      "metadata": {
        "id": "ePG4-hS0abw_",
        "colab": {
          "base_uri": "https://localhost:8080/",
          "height": 608
        },
        "outputId": "a8d5f222-2e60-458b-a40a-e39dabd13e92"
      },
      "execution_count": 42,
      "outputs": [
        {
          "output_type": "stream",
          "name": "stdout",
          "text": [
            "Files already downloaded and verified\n",
            "Files already downloaded and verified\n"
          ]
        },
        {
          "output_type": "display_data",
          "data": {
            "image/png": "[encoded data removed]",
            "text/plain": [
              "<Figure size 432x288 with 1 Axes>"
            ]
          },
          "metadata": {
            "needs_background": "light"
          }
        },
        {
          "output_type": "display_data",
          "data": {
            "image/png": "[encoded data removed]",
            "text/plain": [
              "<Figure size 432x288 with 1 Axes>"
            ]
          },
          "metadata": {
            "needs_background": "light"
          }
        }
      ]
    },
    {
      "cell_type": "markdown",
      "source": [
        "# Bonus\n",
        "\n",
        "## The probabilistic model\n",
        "\n",
        "*(this is a short summary of the model presented in [\"Semi-supervised Learning with\n",
        "Deep Generative Models\"](https://arxiv.org/pdf/1406.5298.pdf))*\n",
        "\n",
        "In the semi-supervised setting, the generative model is a little more complicated than vanilla VAE. In particular, it incorporates a new variable $y$ that represents the class of a digit $x$.\n",
        "\n",
        "\\begin{align*}\n",
        "& p(x, y, z) = p(x \\mid y, z) p(z) p(y) \\\\\n",
        "& p(y) = Cat(y \\mid \\pi_0), \\pi_0 = (1/10, \\dots, 1/10) \\\\\n",
        "& p(z) = \\mathcal N(z \\mid 0, I) \\\\\n",
        "& p(x \\mid y, z) = \\prod_{i=1}^D p_i(y, z)^{x_i} (1 - p_i(y, z))^{1 - x_i}\n",
        "\\end{align*}\n",
        "\n",
        "## The first part of the objective\n",
        "\n",
        "Whenever we train a probabilistic model with partial observations, we interpret the unobserved variables as latent variables. Then we marginalize them. In this case, the loss function splits into two terms: one for observed variables (we denote the set of indices of observed labels $P$), another for unobserved.\n",
        "\n",
        "\\begin{equation}\n",
        "L(X, y) = \\sum_{i \\notin P} \\log p(x_i) + \\sum_{i \\in P} \\log p(x_i, y_i)\n",
        "\\end{equation}\n",
        "\n",
        "Again, we can't compute the exact values of marginal likelihoods and resort to variational lower bound on likelihood. To compute lower bounds, we define the following variational approximation:\n",
        "\n",
        "\\begin{align*}\n",
        "& q(y, z \\mid x) = q(y \\mid x) q(z \\mid y, x)\\\\\n",
        "& \\\\\n",
        "& q(y \\mid x) = Cat(y \\mid \\pi(x))\\\\\n",
        "& q(z \\mid y, x) = \\mathcal N(z \\mid \\mu_\\phi(x, y), \\operatorname{diag}\\sigma^2_\\phi(y, x))\n",
        "\\end{align*}\n",
        "\n",
        "Using the variational approximation, we will obtain two lower bounds.\n",
        "\n",
        "First, the ELBO for $\\log p(x_i, y_i)$ for the observed variables (this one is similar to ELBO of VAE).\n",
        "\n",
        "\\begin{equation}\n",
        "\\log p(x, y) = \\log \\mathbb E_{p(z)} p(x, y \\mid z) \\geq \\mathbb E_{q(z \\mid y, x)} \\log \\frac{p(x, y \\mid z) p(z)}{q(z \\mid y, x)}\n",
        "\\end{equation}\n",
        "\n",
        "Second, the ELBO for $\\log p(x_i)$ for the unobserved variables.\n",
        "\n",
        "\\begin{equation}\n",
        "\\log p(x) = \\log \\mathbb E_{p(y)} \\mathbb E_{p(z \\mid y)} \\log p(x\\mid z, y)\\geq \\mathbb E_{q(y \\mid x)} \\mathbb E_{q(z \\mid y, x)} \\log \\frac{p(x, y \\mid z) p(z)}{q(z \\mid y, x) q(y \\mid x)}\n",
        "\\end{equation}\n",
        "\n",
        "Finally, the joint lower bound will be\n",
        "\n",
        "\\begin{equation}\n",
        "\\mathcal L(X, y) = \\sum_{i \\in P} \\mathbb E_{q(z_i \\mid y_i, x_i)} \\log \\frac{p(x_i, y_i \\mid z_i) p(z_i)}{q(z_i \\mid y_i, x_i)} + \\sum_{i \\notin P} \\mathbb E_{q(y_i \\mid x_i)} \\mathbb E_{q(z_i \\mid y_i, x_i)} \\log \\frac{p(x_i, y_i \\mid z_i) p(z_i)}{q(z_i \\mid y_i, x_i) q(y_i \\mid x_i)}\n",
        "\\end{equation}\n",
        "\n",
        "We will use reparametrized Monte-Carlo estimates to approximate expectation w.r.t. $z$. To approximate expectaion w.r.t. the discrete variable $y$ we will try three different options."
      ],
      "metadata": {
        "id": "70Ckao5QSblC"
      }
    },
    {
      "cell_type": "code",
      "source": [
        "def b(train_data, test_data):\n",
        "    \"\"\"\n",
        "    train_data: An (n_train, 1, 28, 28) torchvision dataset of binary MNIST images\n",
        "    Returns\n",
        "    - a (# of training iterations, ) numpy array  losses on each iteration\n",
        "    - a (# of training epochs, ) numpy array accuracies on each epoch\n",
        "    \"\"\""
      ],
      "metadata": {
        "id": "opRfI5beScTp"
      },
      "execution_count": null,
      "outputs": []
    }
  ]
}