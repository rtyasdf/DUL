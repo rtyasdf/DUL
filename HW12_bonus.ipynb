{
  "nbformat": 4,
  "nbformat_minor": 0,
  "metadata": {
    "colab": {
      "name": "Homework12_semisupervised.ipynb",
      "provenance": [],
      "collapsed_sections": []
    },
    "kernelspec": {
      "name": "python3",
      "display_name": "Python 3"
    },
    "language_info": {
      "name": "python"
    },
    "accelerator": "GPU",
    "widgets": {
      "application/vnd.jupyter.widget-state+json": {
        "12dfe7b2fc2f45a0ad275ec47c656e8f": {
          "model_module": "@jupyter-widgets/controls",
          "model_name": "HBoxModel",
          "model_module_version": "1.5.0",
          "state": {
            "_dom_classes": [],
            "_model_module": "@jupyter-widgets/controls",
            "_model_module_version": "1.5.0",
            "_model_name": "HBoxModel",
            "_view_count": null,
            "_view_module": "@jupyter-widgets/controls",
            "_view_module_version": "1.5.0",
            "_view_name": "HBoxView",
            "box_style": "",
            "children": [
              "IPY_MODEL_c74b1a9bfbe242818139f91537750f3f",
              "IPY_MODEL_67422de7dbc04cd2bb18678523bbf82b",
              "IPY_MODEL_2a519fedcf2044b594aa2db6e1746a43"
            ],
            "layout": "IPY_MODEL_895fbf36bcdb4960941918a5aef8d70c"
          }
        },
        "c74b1a9bfbe242818139f91537750f3f": {
          "model_module": "@jupyter-widgets/controls",
          "model_name": "HTMLModel",
          "model_module_version": "1.5.0",
          "state": {
            "_dom_classes": [],
            "_model_module": "@jupyter-widgets/controls",
            "_model_module_version": "1.5.0",
            "_model_name": "HTMLModel",
            "_view_count": null,
            "_view_module": "@jupyter-widgets/controls",
            "_view_module_version": "1.5.0",
            "_view_name": "HTMLView",
            "description": "",
            "description_tooltip": null,
            "layout": "IPY_MODEL_33fc6faf2afc47b9863b38ff75df9a91",
            "placeholder": "​",
            "style": "IPY_MODEL_78f51ed23ad1466d969ae82b42e658a2",
            "value": ""
          }
        },
        "67422de7dbc04cd2bb18678523bbf82b": {
          "model_module": "@jupyter-widgets/controls",
          "model_name": "FloatProgressModel",
          "model_module_version": "1.5.0",
          "state": {
            "_dom_classes": [],
            "_model_module": "@jupyter-widgets/controls",
            "_model_module_version": "1.5.0",
            "_model_name": "FloatProgressModel",
            "_view_count": null,
            "_view_module": "@jupyter-widgets/controls",
            "_view_module_version": "1.5.0",
            "_view_name": "ProgressView",
            "bar_style": "success",
            "description": "",
            "description_tooltip": null,
            "layout": "IPY_MODEL_cb08918918c44bb581fed2e8ef046a44",
            "max": 9912422,
            "min": 0,
            "orientation": "horizontal",
            "style": "IPY_MODEL_618e58fdf6574b51886d132c190a0ae0",
            "value": 9912422
          }
        },
        "2a519fedcf2044b594aa2db6e1746a43": {
          "model_module": "@jupyter-widgets/controls",
          "model_name": "HTMLModel",
          "model_module_version": "1.5.0",
          "state": {
            "_dom_classes": [],
            "_model_module": "@jupyter-widgets/controls",
            "_model_module_version": "1.5.0",
            "_model_name": "HTMLModel",
            "_view_count": null,
            "_view_module": "@jupyter-widgets/controls",
            "_view_module_version": "1.5.0",
            "_view_name": "HTMLView",
            "description": "",
            "description_tooltip": null,
            "layout": "IPY_MODEL_b754ccc47650446db0ca9734f382555b",
            "placeholder": "​",
            "style": "IPY_MODEL_761f2e396bbb4fd2a4f9b58bc3c466a9",
            "value": " 9913344/? [00:00&lt;00:00, 36835093.91it/s]"
          }
        },
        "895fbf36bcdb4960941918a5aef8d70c": {
          "model_module": "@jupyter-widgets/base",
          "model_name": "LayoutModel",
          "model_module_version": "1.2.0",
          "state": {
            "_model_module": "@jupyter-widgets/base",
            "_model_module_version": "1.2.0",
            "_model_name": "LayoutModel",
            "_view_count": null,
            "_view_module": "@jupyter-widgets/base",
            "_view_module_version": "1.2.0",
            "_view_name": "LayoutView",
            "align_content": null,
            "align_items": null,
            "align_self": null,
            "border": null,
            "bottom": null,
            "display": null,
            "flex": null,
            "flex_flow": null,
            "grid_area": null,
            "grid_auto_columns": null,
            "grid_auto_flow": null,
            "grid_auto_rows": null,
            "grid_column": null,
            "grid_gap": null,
            "grid_row": null,
            "grid_template_areas": null,
            "grid_template_columns": null,
            "grid_template_rows": null,
            "height": null,
            "justify_content": null,
            "justify_items": null,
            "left": null,
            "margin": null,
            "max_height": null,
            "max_width": null,
            "min_height": null,
            "min_width": null,
            "object_fit": null,
            "object_position": null,
            "order": null,
            "overflow": null,
            "overflow_x": null,
            "overflow_y": null,
            "padding": null,
            "right": null,
            "top": null,
            "visibility": null,
            "width": null
          }
        },
        "33fc6faf2afc47b9863b38ff75df9a91": {
          "model_module": "@jupyter-widgets/base",
          "model_name": "LayoutModel",
          "model_module_version": "1.2.0",
          "state": {
            "_model_module": "@jupyter-widgets/base",
            "_model_module_version": "1.2.0",
            "_model_name": "LayoutModel",
            "_view_count": null,
            "_view_module": "@jupyter-widgets/base",
            "_view_module_version": "1.2.0",
            "_view_name": "LayoutView",
            "align_content": null,
            "align_items": null,
            "align_self": null,
            "border": null,
            "bottom": null,
            "display": null,
            "flex": null,
            "flex_flow": null,
            "grid_area": null,
            "grid_auto_columns": null,
            "grid_auto_flow": null,
            "grid_auto_rows": null,
            "grid_column": null,
            "grid_gap": null,
            "grid_row": null,
            "grid_template_areas": null,
            "grid_template_columns": null,
            "grid_template_rows": null,
            "height": null,
            "justify_content": null,
            "justify_items": null,
            "left": null,
            "margin": null,
            "max_height": null,
            "max_width": null,
            "min_height": null,
            "min_width": null,
            "object_fit": null,
            "object_position": null,
            "order": null,
            "overflow": null,
            "overflow_x": null,
            "overflow_y": null,
            "padding": null,
            "right": null,
            "top": null,
            "visibility": null,
            "width": null
          }
        },
        "78f51ed23ad1466d969ae82b42e658a2": {
          "model_module": "@jupyter-widgets/controls",
          "model_name": "DescriptionStyleModel",
          "model_module_version": "1.5.0",
          "state": {
            "_model_module": "@jupyter-widgets/controls",
            "_model_module_version": "1.5.0",
            "_model_name": "DescriptionStyleModel",
            "_view_count": null,
            "_view_module": "@jupyter-widgets/base",
            "_view_module_version": "1.2.0",
            "_view_name": "StyleView",
            "description_width": ""
          }
        },
        "cb08918918c44bb581fed2e8ef046a44": {
          "model_module": "@jupyter-widgets/base",
          "model_name": "LayoutModel",
          "model_module_version": "1.2.0",
          "state": {
            "_model_module": "@jupyter-widgets/base",
            "_model_module_version": "1.2.0",
            "_model_name": "LayoutModel",
            "_view_count": null,
            "_view_module": "@jupyter-widgets/base",
            "_view_module_version": "1.2.0",
            "_view_name": "LayoutView",
            "align_content": null,
            "align_items": null,
            "align_self": null,
            "border": null,
            "bottom": null,
            "display": null,
            "flex": null,
            "flex_flow": null,
            "grid_area": null,
            "grid_auto_columns": null,
            "grid_auto_flow": null,
            "grid_auto_rows": null,
            "grid_column": null,
            "grid_gap": null,
            "grid_row": null,
            "grid_template_areas": null,
            "grid_template_columns": null,
            "grid_template_rows": null,
            "height": null,
            "justify_content": null,
            "justify_items": null,
            "left": null,
            "margin": null,
            "max_height": null,
            "max_width": null,
            "min_height": null,
            "min_width": null,
            "object_fit": null,
            "object_position": null,
            "order": null,
            "overflow": null,
            "overflow_x": null,
            "overflow_y": null,
            "padding": null,
            "right": null,
            "top": null,
            "visibility": null,
            "width": null
          }
        },
        "618e58fdf6574b51886d132c190a0ae0": {
          "model_module": "@jupyter-widgets/controls",
          "model_name": "ProgressStyleModel",
          "model_module_version": "1.5.0",
          "state": {
            "_model_module": "@jupyter-widgets/controls",
            "_model_module_version": "1.5.0",
            "_model_name": "ProgressStyleModel",
            "_view_count": null,
            "_view_module": "@jupyter-widgets/base",
            "_view_module_version": "1.2.0",
            "_view_name": "StyleView",
            "bar_color": null,
            "description_width": ""
          }
        },
        "b754ccc47650446db0ca9734f382555b": {
          "model_module": "@jupyter-widgets/base",
          "model_name": "LayoutModel",
          "model_module_version": "1.2.0",
          "state": {
            "_model_module": "@jupyter-widgets/base",
            "_model_module_version": "1.2.0",
            "_model_name": "LayoutModel",
            "_view_count": null,
            "_view_module": "@jupyter-widgets/base",
            "_view_module_version": "1.2.0",
            "_view_name": "LayoutView",
            "align_content": null,
            "align_items": null,
            "align_self": null,
            "border": null,
            "bottom": null,
            "display": null,
            "flex": null,
            "flex_flow": null,
            "grid_area": null,
            "grid_auto_columns": null,
            "grid_auto_flow": null,
            "grid_auto_rows": null,
            "grid_column": null,
            "grid_gap": null,
            "grid_row": null,
            "grid_template_areas": null,
            "grid_template_columns": null,
            "grid_template_rows": null,
            "height": null,
            "justify_content": null,
            "justify_items": null,
            "left": null,
            "margin": null,
            "max_height": null,
            "max_width": null,
            "min_height": null,
            "min_width": null,
            "object_fit": null,
            "object_position": null,
            "order": null,
            "overflow": null,
            "overflow_x": null,
            "overflow_y": null,
            "padding": null,
            "right": null,
            "top": null,
            "visibility": null,
            "width": null
          }
        },
        "761f2e396bbb4fd2a4f9b58bc3c466a9": {
          "model_module": "@jupyter-widgets/controls",
          "model_name": "DescriptionStyleModel",
          "model_module_version": "1.5.0",
          "state": {
            "_model_module": "@jupyter-widgets/controls",
            "_model_module_version": "1.5.0",
            "_model_name": "DescriptionStyleModel",
            "_view_count": null,
            "_view_module": "@jupyter-widgets/base",
            "_view_module_version": "1.2.0",
            "_view_name": "StyleView",
            "description_width": ""
          }
        },
        "72bae825fe404f7e9569354df51e88fc": {
          "model_module": "@jupyter-widgets/controls",
          "model_name": "HBoxModel",
          "model_module_version": "1.5.0",
          "state": {
            "_dom_classes": [],
            "_model_module": "@jupyter-widgets/controls",
            "_model_module_version": "1.5.0",
            "_model_name": "HBoxModel",
            "_view_count": null,
            "_view_module": "@jupyter-widgets/controls",
            "_view_module_version": "1.5.0",
            "_view_name": "HBoxView",
            "box_style": "",
            "children": [
              "IPY_MODEL_0745dbe8100a4f52b3547eca27179e11",
              "IPY_MODEL_397241a9fa334d50985e5f73c023323d",
              "IPY_MODEL_5ba77d8d6a0340f9bf773fe22dad9529"
            ],
            "layout": "IPY_MODEL_917a8ad3f4904b4a8b33aa8c0f4aa340"
          }
        },
        "0745dbe8100a4f52b3547eca27179e11": {
          "model_module": "@jupyter-widgets/controls",
          "model_name": "HTMLModel",
          "model_module_version": "1.5.0",
          "state": {
            "_dom_classes": [],
            "_model_module": "@jupyter-widgets/controls",
            "_model_module_version": "1.5.0",
            "_model_name": "HTMLModel",
            "_view_count": null,
            "_view_module": "@jupyter-widgets/controls",
            "_view_module_version": "1.5.0",
            "_view_name": "HTMLView",
            "description": "",
            "description_tooltip": null,
            "layout": "IPY_MODEL_b74e718be39f4a0886123f07ad5c2de4",
            "placeholder": "​",
            "style": "IPY_MODEL_d9233327b6bf4579b9f07d1e010d2adc",
            "value": ""
          }
        },
        "397241a9fa334d50985e5f73c023323d": {
          "model_module": "@jupyter-widgets/controls",
          "model_name": "FloatProgressModel",
          "model_module_version": "1.5.0",
          "state": {
            "_dom_classes": [],
            "_model_module": "@jupyter-widgets/controls",
            "_model_module_version": "1.5.0",
            "_model_name": "FloatProgressModel",
            "_view_count": null,
            "_view_module": "@jupyter-widgets/controls",
            "_view_module_version": "1.5.0",
            "_view_name": "ProgressView",
            "bar_style": "success",
            "description": "",
            "description_tooltip": null,
            "layout": "IPY_MODEL_1da9666b86244a1fa2ea3a4f73de5a18",
            "max": 28881,
            "min": 0,
            "orientation": "horizontal",
            "style": "IPY_MODEL_2af1b6d4afee439eaa5dc26405dac307",
            "value": 28881
          }
        },
        "5ba77d8d6a0340f9bf773fe22dad9529": {
          "model_module": "@jupyter-widgets/controls",
          "model_name": "HTMLModel",
          "model_module_version": "1.5.0",
          "state": {
            "_dom_classes": [],
            "_model_module": "@jupyter-widgets/controls",
            "_model_module_version": "1.5.0",
            "_model_name": "HTMLModel",
            "_view_count": null,
            "_view_module": "@jupyter-widgets/controls",
            "_view_module_version": "1.5.0",
            "_view_name": "HTMLView",
            "description": "",
            "description_tooltip": null,
            "layout": "IPY_MODEL_e26e9a35142a4a7d8a81876553c92b5e",
            "placeholder": "​",
            "style": "IPY_MODEL_a98d3356ccb24d639ecc75bc8129cc41",
            "value": " 29696/? [00:00&lt;00:00, 578586.50it/s]"
          }
        },
        "917a8ad3f4904b4a8b33aa8c0f4aa340": {
          "model_module": "@jupyter-widgets/base",
          "model_name": "LayoutModel",
          "model_module_version": "1.2.0",
          "state": {
            "_model_module": "@jupyter-widgets/base",
            "_model_module_version": "1.2.0",
            "_model_name": "LayoutModel",
            "_view_count": null,
            "_view_module": "@jupyter-widgets/base",
            "_view_module_version": "1.2.0",
            "_view_name": "LayoutView",
            "align_content": null,
            "align_items": null,
            "align_self": null,
            "border": null,
            "bottom": null,
            "display": null,
            "flex": null,
            "flex_flow": null,
            "grid_area": null,
            "grid_auto_columns": null,
            "grid_auto_flow": null,
            "grid_auto_rows": null,
            "grid_column": null,
            "grid_gap": null,
            "grid_row": null,
            "grid_template_areas": null,
            "grid_template_columns": null,
            "grid_template_rows": null,
            "height": null,
            "justify_content": null,
            "justify_items": null,
            "left": null,
            "margin": null,
            "max_height": null,
            "max_width": null,
            "min_height": null,
            "min_width": null,
            "object_fit": null,
            "object_position": null,
            "order": null,
            "overflow": null,
            "overflow_x": null,
            "overflow_y": null,
            "padding": null,
            "right": null,
            "top": null,
            "visibility": null,
            "width": null
          }
        },
        "b74e718be39f4a0886123f07ad5c2de4": {
          "model_module": "@jupyter-widgets/base",
          "model_name": "LayoutModel",
          "model_module_version": "1.2.0",
          "state": {
            "_model_module": "@jupyter-widgets/base",
            "_model_module_version": "1.2.0",
            "_model_name": "LayoutModel",
            "_view_count": null,
            "_view_module": "@jupyter-widgets/base",
            "_view_module_version": "1.2.0",
            "_view_name": "LayoutView",
            "align_content": null,
            "align_items": null,
            "align_self": null,
            "border": null,
            "bottom": null,
            "display": null,
            "flex": null,
            "flex_flow": null,
            "grid_area": null,
            "grid_auto_columns": null,
            "grid_auto_flow": null,
            "grid_auto_rows": null,
            "grid_column": null,
            "grid_gap": null,
            "grid_row": null,
            "grid_template_areas": null,
            "grid_template_columns": null,
            "grid_template_rows": null,
            "height": null,
            "justify_content": null,
            "justify_items": null,
            "left": null,
            "margin": null,
            "max_height": null,
            "max_width": null,
            "min_height": null,
            "min_width": null,
            "object_fit": null,
            "object_position": null,
            "order": null,
            "overflow": null,
            "overflow_x": null,
            "overflow_y": null,
            "padding": null,
            "right": null,
            "top": null,
            "visibility": null,
            "width": null
          }
        },
        "d9233327b6bf4579b9f07d1e010d2adc": {
          "model_module": "@jupyter-widgets/controls",
          "model_name": "DescriptionStyleModel",
          "model_module_version": "1.5.0",
          "state": {
            "_model_module": "@jupyter-widgets/controls",
            "_model_module_version": "1.5.0",
            "_model_name": "DescriptionStyleModel",
            "_view_count": null,
            "_view_module": "@jupyter-widgets/base",
            "_view_module_version": "1.2.0",
            "_view_name": "StyleView",
            "description_width": ""
          }
        },
        "1da9666b86244a1fa2ea3a4f73de5a18": {
          "model_module": "@jupyter-widgets/base",
          "model_name": "LayoutModel",
          "model_module_version": "1.2.0",
          "state": {
            "_model_module": "@jupyter-widgets/base",
            "_model_module_version": "1.2.0",
            "_model_name": "LayoutModel",
            "_view_count": null,
            "_view_module": "@jupyter-widgets/base",
            "_view_module_version": "1.2.0",
            "_view_name": "LayoutView",
            "align_content": null,
            "align_items": null,
            "align_self": null,
            "border": null,
            "bottom": null,
            "display": null,
            "flex": null,
            "flex_flow": null,
            "grid_area": null,
            "grid_auto_columns": null,
            "grid_auto_flow": null,
            "grid_auto_rows": null,
            "grid_column": null,
            "grid_gap": null,
            "grid_row": null,
            "grid_template_areas": null,
            "grid_template_columns": null,
            "grid_template_rows": null,
            "height": null,
            "justify_content": null,
            "justify_items": null,
            "left": null,
            "margin": null,
            "max_height": null,
            "max_width": null,
            "min_height": null,
            "min_width": null,
            "object_fit": null,
            "object_position": null,
            "order": null,
            "overflow": null,
            "overflow_x": null,
            "overflow_y": null,
            "padding": null,
            "right": null,
            "top": null,
            "visibility": null,
            "width": null
          }
        },
        "2af1b6d4afee439eaa5dc26405dac307": {
          "model_module": "@jupyter-widgets/controls",
          "model_name": "ProgressStyleModel",
          "model_module_version": "1.5.0",
          "state": {
            "_model_module": "@jupyter-widgets/controls",
            "_model_module_version": "1.5.0",
            "_model_name": "ProgressStyleModel",
            "_view_count": null,
            "_view_module": "@jupyter-widgets/base",
            "_view_module_version": "1.2.0",
            "_view_name": "StyleView",
            "bar_color": null,
            "description_width": ""
          }
        },
        "e26e9a35142a4a7d8a81876553c92b5e": {
          "model_module": "@jupyter-widgets/base",
          "model_name": "LayoutModel",
          "model_module_version": "1.2.0",
          "state": {
            "_model_module": "@jupyter-widgets/base",
            "_model_module_version": "1.2.0",
            "_model_name": "LayoutModel",
            "_view_count": null,
            "_view_module": "@jupyter-widgets/base",
            "_view_module_version": "1.2.0",
            "_view_name": "LayoutView",
            "align_content": null,
            "align_items": null,
            "align_self": null,
            "border": null,
            "bottom": null,
            "display": null,
            "flex": null,
            "flex_flow": null,
            "grid_area": null,
            "grid_auto_columns": null,
            "grid_auto_flow": null,
            "grid_auto_rows": null,
            "grid_column": null,
            "grid_gap": null,
            "grid_row": null,
            "grid_template_areas": null,
            "grid_template_columns": null,
            "grid_template_rows": null,
            "height": null,
            "justify_content": null,
            "justify_items": null,
            "left": null,
            "margin": null,
            "max_height": null,
            "max_width": null,
            "min_height": null,
            "min_width": null,
            "object_fit": null,
            "object_position": null,
            "order": null,
            "overflow": null,
            "overflow_x": null,
            "overflow_y": null,
            "padding": null,
            "right": null,
            "top": null,
            "visibility": null,
            "width": null
          }
        },
        "a98d3356ccb24d639ecc75bc8129cc41": {
          "model_module": "@jupyter-widgets/controls",
          "model_name": "DescriptionStyleModel",
          "model_module_version": "1.5.0",
          "state": {
            "_model_module": "@jupyter-widgets/controls",
            "_model_module_version": "1.5.0",
            "_model_name": "DescriptionStyleModel",
            "_view_count": null,
            "_view_module": "@jupyter-widgets/base",
            "_view_module_version": "1.2.0",
            "_view_name": "StyleView",
            "description_width": ""
          }
        },
        "f83972b37eb5484694373d6d8a1bb85d": {
          "model_module": "@jupyter-widgets/controls",
          "model_name": "HBoxModel",
          "model_module_version": "1.5.0",
          "state": {
            "_dom_classes": [],
            "_model_module": "@jupyter-widgets/controls",
            "_model_module_version": "1.5.0",
            "_model_name": "HBoxModel",
            "_view_count": null,
            "_view_module": "@jupyter-widgets/controls",
            "_view_module_version": "1.5.0",
            "_view_name": "HBoxView",
            "box_style": "",
            "children": [
              "IPY_MODEL_701f8f9c62164acfad6e574dd2b667d4",
              "IPY_MODEL_48e1cf3fdfba4fc1adca6161a6576ee8",
              "IPY_MODEL_6bf418d3435d44cdbc2a7e587286ad9e"
            ],
            "layout": "IPY_MODEL_456dfbfbf72f477ebb04f668347b429a"
          }
        },
        "701f8f9c62164acfad6e574dd2b667d4": {
          "model_module": "@jupyter-widgets/controls",
          "model_name": "HTMLModel",
          "model_module_version": "1.5.0",
          "state": {
            "_dom_classes": [],
            "_model_module": "@jupyter-widgets/controls",
            "_model_module_version": "1.5.0",
            "_model_name": "HTMLModel",
            "_view_count": null,
            "_view_module": "@jupyter-widgets/controls",
            "_view_module_version": "1.5.0",
            "_view_name": "HTMLView",
            "description": "",
            "description_tooltip": null,
            "layout": "IPY_MODEL_a0a5b2ee7f0e4e32b200876064c30d63",
            "placeholder": "​",
            "style": "IPY_MODEL_bf465c4db6ab41f2bddf8021cec425dd",
            "value": ""
          }
        },
        "48e1cf3fdfba4fc1adca6161a6576ee8": {
          "model_module": "@jupyter-widgets/controls",
          "model_name": "FloatProgressModel",
          "model_module_version": "1.5.0",
          "state": {
            "_dom_classes": [],
            "_model_module": "@jupyter-widgets/controls",
            "_model_module_version": "1.5.0",
            "_model_name": "FloatProgressModel",
            "_view_count": null,
            "_view_module": "@jupyter-widgets/controls",
            "_view_module_version": "1.5.0",
            "_view_name": "ProgressView",
            "bar_style": "success",
            "description": "",
            "description_tooltip": null,
            "layout": "IPY_MODEL_c0adf29599654ff0a8fbdb6a0559850b",
            "max": 1648877,
            "min": 0,
            "orientation": "horizontal",
            "style": "IPY_MODEL_c20c7cbf19934363a4a139b6d94a92b5",
            "value": 1648877
          }
        },
        "6bf418d3435d44cdbc2a7e587286ad9e": {
          "model_module": "@jupyter-widgets/controls",
          "model_name": "HTMLModel",
          "model_module_version": "1.5.0",
          "state": {
            "_dom_classes": [],
            "_model_module": "@jupyter-widgets/controls",
            "_model_module_version": "1.5.0",
            "_model_name": "HTMLModel",
            "_view_count": null,
            "_view_module": "@jupyter-widgets/controls",
            "_view_module_version": "1.5.0",
            "_view_name": "HTMLView",
            "description": "",
            "description_tooltip": null,
            "layout": "IPY_MODEL_60fd25faf8064d4fbf17a9b78d918880",
            "placeholder": "​",
            "style": "IPY_MODEL_5f75bb639cca43788a7246ea0e8c7349",
            "value": " 1649664/? [00:00&lt;00:00, 5179209.92it/s]"
          }
        },
        "456dfbfbf72f477ebb04f668347b429a": {
          "model_module": "@jupyter-widgets/base",
          "model_name": "LayoutModel",
          "model_module_version": "1.2.0",
          "state": {
            "_model_module": "@jupyter-widgets/base",
            "_model_module_version": "1.2.0",
            "_model_name": "LayoutModel",
            "_view_count": null,
            "_view_module": "@jupyter-widgets/base",
            "_view_module_version": "1.2.0",
            "_view_name": "LayoutView",
            "align_content": null,
            "align_items": null,
            "align_self": null,
            "border": null,
            "bottom": null,
            "display": null,
            "flex": null,
            "flex_flow": null,
            "grid_area": null,
            "grid_auto_columns": null,
            "grid_auto_flow": null,
            "grid_auto_rows": null,
            "grid_column": null,
            "grid_gap": null,
            "grid_row": null,
            "grid_template_areas": null,
            "grid_template_columns": null,
            "grid_template_rows": null,
            "height": null,
            "justify_content": null,
            "justify_items": null,
            "left": null,
            "margin": null,
            "max_height": null,
            "max_width": null,
            "min_height": null,
            "min_width": null,
            "object_fit": null,
            "object_position": null,
            "order": null,
            "overflow": null,
            "overflow_x": null,
            "overflow_y": null,
            "padding": null,
            "right": null,
            "top": null,
            "visibility": null,
            "width": null
          }
        },
        "a0a5b2ee7f0e4e32b200876064c30d63": {
          "model_module": "@jupyter-widgets/base",
          "model_name": "LayoutModel",
          "model_module_version": "1.2.0",
          "state": {
            "_model_module": "@jupyter-widgets/base",
            "_model_module_version": "1.2.0",
            "_model_name": "LayoutModel",
            "_view_count": null,
            "_view_module": "@jupyter-widgets/base",
            "_view_module_version": "1.2.0",
            "_view_name": "LayoutView",
            "align_content": null,
            "align_items": null,
            "align_self": null,
            "border": null,
            "bottom": null,
            "display": null,
            "flex": null,
            "flex_flow": null,
            "grid_area": null,
            "grid_auto_columns": null,
            "grid_auto_flow": null,
            "grid_auto_rows": null,
            "grid_column": null,
            "grid_gap": null,
            "grid_row": null,
            "grid_template_areas": null,
            "grid_template_columns": null,
            "grid_template_rows": null,
            "height": null,
            "justify_content": null,
            "justify_items": null,
            "left": null,
            "margin": null,
            "max_height": null,
            "max_width": null,
            "min_height": null,
            "min_width": null,
            "object_fit": null,
            "object_position": null,
            "order": null,
            "overflow": null,
            "overflow_x": null,
            "overflow_y": null,
            "padding": null,
            "right": null,
            "top": null,
            "visibility": null,
            "width": null
          }
        },
        "bf465c4db6ab41f2bddf8021cec425dd": {
          "model_module": "@jupyter-widgets/controls",
          "model_name": "DescriptionStyleModel",
          "model_module_version": "1.5.0",
          "state": {
            "_model_module": "@jupyter-widgets/controls",
            "_model_module_version": "1.5.0",
            "_model_name": "DescriptionStyleModel",
            "_view_count": null,
            "_view_module": "@jupyter-widgets/base",
            "_view_module_version": "1.2.0",
            "_view_name": "StyleView",
            "description_width": ""
          }
        },
        "c0adf29599654ff0a8fbdb6a0559850b": {
          "model_module": "@jupyter-widgets/base",
          "model_name": "LayoutModel",
          "model_module_version": "1.2.0",
          "state": {
            "_model_module": "@jupyter-widgets/base",
            "_model_module_version": "1.2.0",
            "_model_name": "LayoutModel",
            "_view_count": null,
            "_view_module": "@jupyter-widgets/base",
            "_view_module_version": "1.2.0",
            "_view_name": "LayoutView",
            "align_content": null,
            "align_items": null,
            "align_self": null,
            "border": null,
            "bottom": null,
            "display": null,
            "flex": null,
            "flex_flow": null,
            "grid_area": null,
            "grid_auto_columns": null,
            "grid_auto_flow": null,
            "grid_auto_rows": null,
            "grid_column": null,
            "grid_gap": null,
            "grid_row": null,
            "grid_template_areas": null,
            "grid_template_columns": null,
            "grid_template_rows": null,
            "height": null,
            "justify_content": null,
            "justify_items": null,
            "left": null,
            "margin": null,
            "max_height": null,
            "max_width": null,
            "min_height": null,
            "min_width": null,
            "object_fit": null,
            "object_position": null,
            "order": null,
            "overflow": null,
            "overflow_x": null,
            "overflow_y": null,
            "padding": null,
            "right": null,
            "top": null,
            "visibility": null,
            "width": null
          }
        },
        "c20c7cbf19934363a4a139b6d94a92b5": {
          "model_module": "@jupyter-widgets/controls",
          "model_name": "ProgressStyleModel",
          "model_module_version": "1.5.0",
          "state": {
            "_model_module": "@jupyter-widgets/controls",
            "_model_module_version": "1.5.0",
            "_model_name": "ProgressStyleModel",
            "_view_count": null,
            "_view_module": "@jupyter-widgets/base",
            "_view_module_version": "1.2.0",
            "_view_name": "StyleView",
            "bar_color": null,
            "description_width": ""
          }
        },
        "60fd25faf8064d4fbf17a9b78d918880": {
          "model_module": "@jupyter-widgets/base",
          "model_name": "LayoutModel",
          "model_module_version": "1.2.0",
          "state": {
            "_model_module": "@jupyter-widgets/base",
            "_model_module_version": "1.2.0",
            "_model_name": "LayoutModel",
            "_view_count": null,
            "_view_module": "@jupyter-widgets/base",
            "_view_module_version": "1.2.0",
            "_view_name": "LayoutView",
            "align_content": null,
            "align_items": null,
            "align_self": null,
            "border": null,
            "bottom": null,
            "display": null,
            "flex": null,
            "flex_flow": null,
            "grid_area": null,
            "grid_auto_columns": null,
            "grid_auto_flow": null,
            "grid_auto_rows": null,
            "grid_column": null,
            "grid_gap": null,
            "grid_row": null,
            "grid_template_areas": null,
            "grid_template_columns": null,
            "grid_template_rows": null,
            "height": null,
            "justify_content": null,
            "justify_items": null,
            "left": null,
            "margin": null,
            "max_height": null,
            "max_width": null,
            "min_height": null,
            "min_width": null,
            "object_fit": null,
            "object_position": null,
            "order": null,
            "overflow": null,
            "overflow_x": null,
            "overflow_y": null,
            "padding": null,
            "right": null,
            "top": null,
            "visibility": null,
            "width": null
          }
        },
        "5f75bb639cca43788a7246ea0e8c7349": {
          "model_module": "@jupyter-widgets/controls",
          "model_name": "DescriptionStyleModel",
          "model_module_version": "1.5.0",
          "state": {
            "_model_module": "@jupyter-widgets/controls",
            "_model_module_version": "1.5.0",
            "_model_name": "DescriptionStyleModel",
            "_view_count": null,
            "_view_module": "@jupyter-widgets/base",
            "_view_module_version": "1.2.0",
            "_view_name": "StyleView",
            "description_width": ""
          }
        },
        "4b966980344b4795b459915dfe763d2a": {
          "model_module": "@jupyter-widgets/controls",
          "model_name": "HBoxModel",
          "model_module_version": "1.5.0",
          "state": {
            "_dom_classes": [],
            "_model_module": "@jupyter-widgets/controls",
            "_model_module_version": "1.5.0",
            "_model_name": "HBoxModel",
            "_view_count": null,
            "_view_module": "@jupyter-widgets/controls",
            "_view_module_version": "1.5.0",
            "_view_name": "HBoxView",
            "box_style": "",
            "children": [
              "IPY_MODEL_e8286afc10e34c39aa8ed95950a08d79",
              "IPY_MODEL_b79227a90be94ac496ae0fdd48833471",
              "IPY_MODEL_63002d0b3b58478ba0e35c32f97459aa"
            ],
            "layout": "IPY_MODEL_d50c0a319456443f8ba1a622ceb728e7"
          }
        },
        "e8286afc10e34c39aa8ed95950a08d79": {
          "model_module": "@jupyter-widgets/controls",
          "model_name": "HTMLModel",
          "model_module_version": "1.5.0",
          "state": {
            "_dom_classes": [],
            "_model_module": "@jupyter-widgets/controls",
            "_model_module_version": "1.5.0",
            "_model_name": "HTMLModel",
            "_view_count": null,
            "_view_module": "@jupyter-widgets/controls",
            "_view_module_version": "1.5.0",
            "_view_name": "HTMLView",
            "description": "",
            "description_tooltip": null,
            "layout": "IPY_MODEL_9875bdebb5b044cf9cd6987db00b00dc",
            "placeholder": "​",
            "style": "IPY_MODEL_1c6033d9eaf4481f857c55f08bed597e",
            "value": ""
          }
        },
        "b79227a90be94ac496ae0fdd48833471": {
          "model_module": "@jupyter-widgets/controls",
          "model_name": "FloatProgressModel",
          "model_module_version": "1.5.0",
          "state": {
            "_dom_classes": [],
            "_model_module": "@jupyter-widgets/controls",
            "_model_module_version": "1.5.0",
            "_model_name": "FloatProgressModel",
            "_view_count": null,
            "_view_module": "@jupyter-widgets/controls",
            "_view_module_version": "1.5.0",
            "_view_name": "ProgressView",
            "bar_style": "success",
            "description": "",
            "description_tooltip": null,
            "layout": "IPY_MODEL_37b7c966489f46678127af652f7d7ae1",
            "max": 4542,
            "min": 0,
            "orientation": "horizontal",
            "style": "IPY_MODEL_502923b6032e4c81846e1f4733eb2d4d",
            "value": 4542
          }
        },
        "63002d0b3b58478ba0e35c32f97459aa": {
          "model_module": "@jupyter-widgets/controls",
          "model_name": "HTMLModel",
          "model_module_version": "1.5.0",
          "state": {
            "_dom_classes": [],
            "_model_module": "@jupyter-widgets/controls",
            "_model_module_version": "1.5.0",
            "_model_name": "HTMLModel",
            "_view_count": null,
            "_view_module": "@jupyter-widgets/controls",
            "_view_module_version": "1.5.0",
            "_view_name": "HTMLView",
            "description": "",
            "description_tooltip": null,
            "layout": "IPY_MODEL_a6f98a57e9e649298882cf54bc2cf1d2",
            "placeholder": "​",
            "style": "IPY_MODEL_6ea98a6f694041eba61a934cdca5288c",
            "value": " 5120/? [00:00&lt;00:00, 129428.86it/s]"
          }
        },
        "d50c0a319456443f8ba1a622ceb728e7": {
          "model_module": "@jupyter-widgets/base",
          "model_name": "LayoutModel",
          "model_module_version": "1.2.0",
          "state": {
            "_model_module": "@jupyter-widgets/base",
            "_model_module_version": "1.2.0",
            "_model_name": "LayoutModel",
            "_view_count": null,
            "_view_module": "@jupyter-widgets/base",
            "_view_module_version": "1.2.0",
            "_view_name": "LayoutView",
            "align_content": null,
            "align_items": null,
            "align_self": null,
            "border": null,
            "bottom": null,
            "display": null,
            "flex": null,
            "flex_flow": null,
            "grid_area": null,
            "grid_auto_columns": null,
            "grid_auto_flow": null,
            "grid_auto_rows": null,
            "grid_column": null,
            "grid_gap": null,
            "grid_row": null,
            "grid_template_areas": null,
            "grid_template_columns": null,
            "grid_template_rows": null,
            "height": null,
            "justify_content": null,
            "justify_items": null,
            "left": null,
            "margin": null,
            "max_height": null,
            "max_width": null,
            "min_height": null,
            "min_width": null,
            "object_fit": null,
            "object_position": null,
            "order": null,
            "overflow": null,
            "overflow_x": null,
            "overflow_y": null,
            "padding": null,
            "right": null,
            "top": null,
            "visibility": null,
            "width": null
          }
        },
        "9875bdebb5b044cf9cd6987db00b00dc": {
          "model_module": "@jupyter-widgets/base",
          "model_name": "LayoutModel",
          "model_module_version": "1.2.0",
          "state": {
            "_model_module": "@jupyter-widgets/base",
            "_model_module_version": "1.2.0",
            "_model_name": "LayoutModel",
            "_view_count": null,
            "_view_module": "@jupyter-widgets/base",
            "_view_module_version": "1.2.0",
            "_view_name": "LayoutView",
            "align_content": null,
            "align_items": null,
            "align_self": null,
            "border": null,
            "bottom": null,
            "display": null,
            "flex": null,
            "flex_flow": null,
            "grid_area": null,
            "grid_auto_columns": null,
            "grid_auto_flow": null,
            "grid_auto_rows": null,
            "grid_column": null,
            "grid_gap": null,
            "grid_row": null,
            "grid_template_areas": null,
            "grid_template_columns": null,
            "grid_template_rows": null,
            "height": null,
            "justify_content": null,
            "justify_items": null,
            "left": null,
            "margin": null,
            "max_height": null,
            "max_width": null,
            "min_height": null,
            "min_width": null,
            "object_fit": null,
            "object_position": null,
            "order": null,
            "overflow": null,
            "overflow_x": null,
            "overflow_y": null,
            "padding": null,
            "right": null,
            "top": null,
            "visibility": null,
            "width": null
          }
        },
        "1c6033d9eaf4481f857c55f08bed597e": {
          "model_module": "@jupyter-widgets/controls",
          "model_name": "DescriptionStyleModel",
          "model_module_version": "1.5.0",
          "state": {
            "_model_module": "@jupyter-widgets/controls",
            "_model_module_version": "1.5.0",
            "_model_name": "DescriptionStyleModel",
            "_view_count": null,
            "_view_module": "@jupyter-widgets/base",
            "_view_module_version": "1.2.0",
            "_view_name": "StyleView",
            "description_width": ""
          }
        },
        "37b7c966489f46678127af652f7d7ae1": {
          "model_module": "@jupyter-widgets/base",
          "model_name": "LayoutModel",
          "model_module_version": "1.2.0",
          "state": {
            "_model_module": "@jupyter-widgets/base",
            "_model_module_version": "1.2.0",
            "_model_name": "LayoutModel",
            "_view_count": null,
            "_view_module": "@jupyter-widgets/base",
            "_view_module_version": "1.2.0",
            "_view_name": "LayoutView",
            "align_content": null,
            "align_items": null,
            "align_self": null,
            "border": null,
            "bottom": null,
            "display": null,
            "flex": null,
            "flex_flow": null,
            "grid_area": null,
            "grid_auto_columns": null,
            "grid_auto_flow": null,
            "grid_auto_rows": null,
            "grid_column": null,
            "grid_gap": null,
            "grid_row": null,
            "grid_template_areas": null,
            "grid_template_columns": null,
            "grid_template_rows": null,
            "height": null,
            "justify_content": null,
            "justify_items": null,
            "left": null,
            "margin": null,
            "max_height": null,
            "max_width": null,
            "min_height": null,
            "min_width": null,
            "object_fit": null,
            "object_position": null,
            "order": null,
            "overflow": null,
            "overflow_x": null,
            "overflow_y": null,
            "padding": null,
            "right": null,
            "top": null,
            "visibility": null,
            "width": null
          }
        },
        "502923b6032e4c81846e1f4733eb2d4d": {
          "model_module": "@jupyter-widgets/controls",
          "model_name": "ProgressStyleModel",
          "model_module_version": "1.5.0",
          "state": {
            "_model_module": "@jupyter-widgets/controls",
            "_model_module_version": "1.5.0",
            "_model_name": "ProgressStyleModel",
            "_view_count": null,
            "_view_module": "@jupyter-widgets/base",
            "_view_module_version": "1.2.0",
            "_view_name": "StyleView",
            "bar_color": null,
            "description_width": ""
          }
        },
        "a6f98a57e9e649298882cf54bc2cf1d2": {
          "model_module": "@jupyter-widgets/base",
          "model_name": "LayoutModel",
          "model_module_version": "1.2.0",
          "state": {
            "_model_module": "@jupyter-widgets/base",
            "_model_module_version": "1.2.0",
            "_model_name": "LayoutModel",
            "_view_count": null,
            "_view_module": "@jupyter-widgets/base",
            "_view_module_version": "1.2.0",
            "_view_name": "LayoutView",
            "align_content": null,
            "align_items": null,
            "align_self": null,
            "border": null,
            "bottom": null,
            "display": null,
            "flex": null,
            "flex_flow": null,
            "grid_area": null,
            "grid_auto_columns": null,
            "grid_auto_flow": null,
            "grid_auto_rows": null,
            "grid_column": null,
            "grid_gap": null,
            "grid_row": null,
            "grid_template_areas": null,
            "grid_template_columns": null,
            "grid_template_rows": null,
            "height": null,
            "justify_content": null,
            "justify_items": null,
            "left": null,
            "margin": null,
            "max_height": null,
            "max_width": null,
            "min_height": null,
            "min_width": null,
            "object_fit": null,
            "object_position": null,
            "order": null,
            "overflow": null,
            "overflow_x": null,
            "overflow_y": null,
            "padding": null,
            "right": null,
            "top": null,
            "visibility": null,
            "width": null
          }
        },
        "6ea98a6f694041eba61a934cdca5288c": {
          "model_module": "@jupyter-widgets/controls",
          "model_name": "DescriptionStyleModel",
          "model_module_version": "1.5.0",
          "state": {
            "_model_module": "@jupyter-widgets/controls",
            "_model_module_version": "1.5.0",
            "_model_name": "DescriptionStyleModel",
            "_view_count": null,
            "_view_module": "@jupyter-widgets/base",
            "_view_module_version": "1.2.0",
            "_view_name": "StyleView",
            "description_width": ""
          }
        }
      }
    }
  },
  "cells": [
    {
      "cell_type": "markdown",
      "metadata": {
        "id": "view-in-github"
      },
      "source": [
        "<a href=\"https://colab.research.google.com/github/GrigoryBartosh/dul_2021/blob/main/Homework/hw12/Homework12_semisupervised.ipynb\" target=\"_parent\"><img src=\"https://colab.research.google.com/assets/colab-badge.svg\" alt=\"Open In Colab\"/></a>"
      ]
    },
    {
      "cell_type": "code",
      "source": [
        "!if [ -d dul_2021 ]; then rm -Rf dul_2021; fi\n",
        "!git clone https://github.com/GrigoryBartosh/dul_2021\n",
        "!pip install ./dul_2021"
      ],
      "metadata": {
        "id": "vEPPrGksax7-",
        "colab": {
          "base_uri": "https://localhost:8080/"
        },
        "outputId": "558aa9da-b3c5-43ce-df99-2f45063b7318"
      },
      "execution_count": 1,
      "outputs": [
        {
          "output_type": "stream",
          "name": "stdout",
          "text": [
            "Cloning into 'dul_2021'...\n",
            "remote: Enumerating objects: 435, done.\u001b[K\n",
            "remote: Counting objects: 100% (185/185), done.\u001b[K\n",
            "remote: Compressing objects: 100% (101/101), done.\u001b[K\n",
            "remote: Total 435 (delta 110), reused 82 (delta 80), pack-reused 250\u001b[K\n",
            "Receiving objects: 100% (435/435), 70.49 MiB | 12.76 MiB/s, done.\n",
            "Resolving deltas: 100% (204/204), done.\n",
            "Checking out files: 100% (59/59), done.\n",
            "Processing ./dul_2021\n",
            "\u001b[33m  DEPRECATION: A future pip version will change local packages to be built in-place without first copying to a temporary directory. We recommend you use --use-feature=in-tree-build to test your packages with this new behavior before it becomes the default.\n",
            "   pip 21.3 will remove support for this functionality. You can find discussion regarding this at https://github.com/pypa/pip/issues/7555.\u001b[0m\n",
            "Building wheels for collected packages: dul-2021\n",
            "  Building wheel for dul-2021 (setup.py) ... \u001b[?25l\u001b[?25hdone\n",
            "  Created wheel for dul-2021: filename=dul_2021-0.1.0-py3-none-any.whl size=30522 sha256=133034de6bf09ba85764c49c3a6a7d5b261b23865807429a21ed34ec362b4dd6\n",
            "  Stored in directory: /tmp/pip-ephem-wheel-cache-8dtton83/wheels/55/59/29/0fb1c635652157734f4d741f32fc11979149684e83e919de06\n",
            "Successfully built dul-2021\n",
            "Installing collected packages: dul-2021\n",
            "Successfully installed dul-2021-0.1.0\n"
          ]
        }
      ]
    },
    {
      "cell_type": "code",
      "source": [
        "from dul_2021.utils.hw12_utils import *"
      ],
      "metadata": {
        "id": "VUu3B_L7azpr"
      },
      "execution_count": 2,
      "outputs": []
    },
    {
      "cell_type": "code",
      "source": [
        "import torch\n",
        "import torch.nn as nn\n",
        "from torch.distributions import Categorical, Normal\n",
        "import numpy as np\n",
        "import torch.autograd as autograd"
      ],
      "metadata": {
        "id": "XuYsPraEMVE-"
      },
      "execution_count": 3,
      "outputs": []
    },
    {
      "cell_type": "code",
      "source": [
        "device = torch.device(\"cuda\" if torch.cuda.is_available() else \"cpu\")"
      ],
      "metadata": {
        "id": "4qVrtDAZONRg"
      },
      "execution_count": 4,
      "outputs": []
    },
    {
      "cell_type": "markdown",
      "source": [
        "# Bonus\n",
        "\n",
        "## The probabilistic model\n",
        "\n",
        "*(this is a short summary of the model presented in [\"Semi-supervised Learning with\n",
        "Deep Generative Models\"](https://arxiv.org/pdf/1406.5298.pdf))*\n",
        "\n",
        "In the semi-supervised setting, the generative model is a little more complicated than vanilla VAE. In particular, it incorporates a new variable $y$ that represents the class of a digit $x$.\n",
        "\n",
        "\\begin{align*}\n",
        "& p(x, y, z) = p(x \\mid y, z) p(z) p(y) \\\\\n",
        "& p(y) = Cat(y \\mid \\pi_0), \\pi_0 = (1/10, \\dots, 1/10) \\\\\n",
        "& p(z) = \\mathcal N(z \\mid 0, I) \\\\\n",
        "& p(x \\mid y, z) = \\prod_{i=1}^D p_i(y, z)^{x_i} (1 - p_i(y, z))^{1 - x_i}\n",
        "\\end{align*}\n",
        "\n",
        "## The first part of the objective\n",
        "\n",
        "Whenever we train a probabilistic model with partial observations, we interpret the unobserved variables as latent variables. Then we marginalize them. In this case, the loss function splits into two terms: one for observed variables (we denote the set of indices of observed labels $P$), another for unobserved.\n",
        "\n",
        "\\begin{equation}\n",
        "L(X, y) = \\sum_{i \\notin P} \\log p(x_i) + \\sum_{i \\in P} \\log p(x_i, y_i)\n",
        "\\end{equation}\n",
        "\n",
        "Again, we can't compute the exact values of marginal likelihoods and resort to variational lower bound on likelihood. To compute lower bounds, we define the following variational approximation:\n",
        "\n",
        "\\begin{align*}\n",
        "& q(y, z \\mid x) = q(y \\mid x) q(z \\mid y, x)\\\\\n",
        "& \\\\\n",
        "& q(y \\mid x) = Cat(y \\mid \\pi(x))\\\\\n",
        "& q(z \\mid y, x) = \\mathcal N(z \\mid \\mu_\\phi(x, y), \\operatorname{diag}\\sigma^2_\\phi(y, x))\n",
        "\\end{align*}\n",
        "\n",
        "Using the variational approximation, we will obtain two lower bounds.\n",
        "\n",
        "First, the ELBO for $\\log p(x_i, y_i)$ for the observed variables (this one is similar to ELBO of VAE).\n",
        "\n",
        "\\begin{equation}\n",
        "\\log p(x, y) = \\log \\mathbb E_{p(z)} p(x, y \\mid z) \\geq \\mathbb E_{q(z \\mid y, x)} \\log \\frac{p(x, y \\mid z) p(z)}{q(z \\mid y, x)}\n",
        "\\end{equation}\n",
        "\n",
        "Second, the ELBO for $\\log p(x_i)$ for the unobserved variables.\n",
        "\n",
        "\\begin{equation}\n",
        "\\log p(x) = \\log \\mathbb E_{p(y)} \\mathbb E_{p(z \\mid y)} \\log p(x\\mid z, y)\\geq \\mathbb E_{q(y \\mid x)} \\mathbb E_{q(z \\mid y, x)} \\log \\frac{p(x, y \\mid z) p(z)}{q(z \\mid y, x) q(y \\mid x)}\n",
        "\\end{equation}\n",
        "\n",
        "Finally, the joint lower bound will be\n",
        "\n",
        "\\begin{equation}\n",
        "\\mathcal L(X, y) = \\sum_{i \\in P} \\mathbb E_{q(z_i \\mid y_i, x_i)} \\log \\frac{p(x_i, y_i \\mid z_i) p(z_i)}{q(z_i \\mid y_i, x_i)} + \\sum_{i \\notin P} \\mathbb E_{q(y_i \\mid x_i)} \\mathbb E_{q(z_i \\mid y_i, x_i)} \\log \\frac{p(x_i, y_i \\mid z_i) p(z_i)}{q(z_i \\mid y_i, x_i) q(y_i \\mid x_i)}\n",
        "\\end{equation}\n",
        "\n",
        "We will use reparametrized Monte-Carlo estimates to approximate expectation w.r.t. $z$. To approximate expectaion w.r.t. the discrete variable $y$ we will try three different options."
      ],
      "metadata": {
        "id": "70Ckao5QSblC"
      }
    },
    {
      "cell_type": "markdown",
      "source": [
        "# Linear and Independent"
      ],
      "metadata": {
        "id": "SudhviyTH67v"
      }
    },
    {
      "cell_type": "markdown",
      "source": [
        "## Classes"
      ],
      "metadata": {
        "id": "JmE7uT3kH_Vx"
      }
    },
    {
      "cell_type": "code",
      "source": [
        "class Classifier(nn.Module):\n",
        "  def __init__(self, num_of_classes=10, hidden_dim=400):\n",
        "    super().__init__()\n",
        "\n",
        "    self.lin = nn.Sequential(nn.Flatten(),\n",
        "                             nn.Linear(28 * 28, hidden_dim),\n",
        "                             nn.ReLU(),\n",
        "                             nn.Linear(hidden_dim, num_of_classes))\n",
        "\n",
        "  def forward(self, x):\n",
        "    return self.lin(x)"
      ],
      "metadata": {
        "id": "AkVluR0bH99W"
      },
      "execution_count": 5,
      "outputs": []
    },
    {
      "cell_type": "code",
      "source": [
        "class ZNet(nn.Module):\n",
        "  def __init__(self, latent_dim=16, hidden_dim=400):\n",
        "    super().__init__()\n",
        "    \n",
        "    self.lin = nn.Sequential(nn.Flatten(),\n",
        "                             nn.Linear(28 * 28, hidden_dim),\n",
        "                             nn.ReLU(),\n",
        "                             nn.Linear(hidden_dim, hidden_dim),\n",
        "                             nn.ReLU(),\n",
        "                             nn.Linear(hidden_dim, 2 * latent_dim))\n",
        "\n",
        "  def forward(self, x):\n",
        "    return self.lin(x)"
      ],
      "metadata": {
        "id": "-uXP8NxkIWU8"
      },
      "execution_count": 6,
      "outputs": []
    },
    {
      "cell_type": "code",
      "source": [
        "class UpscaleNet(nn.Module):\n",
        "  def __init__(self, latent_dim=16, embedding_dim=40, hidden_dim=400):\n",
        "    super().__init__()\n",
        "    self.hid_dim = hidden_dim\n",
        "    self.lin = nn.Sequential(nn.Linear(latent_dim + embedding_dim, hidden_dim), \n",
        "                             nn.ReLU(),\n",
        "                             nn.Linear(hidden_dim, hidden_dim),\n",
        "                             nn.ReLU(),\n",
        "                             nn.Linear(hidden_dim, 28 * 28),\n",
        "                             nn.Tanh())\n",
        "\n",
        "  def forward(self, x):\n",
        "    x = (self.lin(x) + 1) * 0.5\n",
        "    return x.reshape(-1, 1, 28, 28)"
      ],
      "metadata": {
        "id": "VzXwwtFXI5S5"
      },
      "execution_count": 7,
      "outputs": []
    },
    {
      "cell_type": "code",
      "source": [
        "class VAE_Linear(nn.Module):\n",
        "  def __init__(self, latent_dim=16, embedding_dim=40, num_of_classes=10):\n",
        "    super().__init__()\n",
        "    self.embd = torch.randn((num_of_classes, embedding_dim), device=device)\n",
        "    self.l_dim = latent_dim\n",
        "\n",
        "    self.π = Classifier(num_of_classes)\n",
        "    self.downscale = ZNet(latent_dim)\n",
        "    self.upscale = UpscaleNet(latent_dim, embedding_dim)\n",
        "\n",
        "    self.support = torch.arange(num_of_classes).expand(500, num_of_classes).to(device)\n",
        "    self.kl_constant = - np.log(num_of_classes)\n",
        "    self.cls_num = num_of_classes\n",
        "\n",
        "    self.sf = nn.Softmax(dim=1)\n",
        "\n",
        "  def compute_normal_dkl(self, μ, ln_σ):\n",
        "    \"\"\"\n",
        "    Compute KL divergence as sum of D_KL of independent\n",
        "    \"\"\"\n",
        "    mask = torch.sign(ln_σ)\n",
        "\n",
        "    dkl = - 2 * torch.exp(torch.log(torch.abs(ln_σ)) - ln_σ) * mask\n",
        "    dkl += torch.exp(2 * ln_σ)\n",
        "    dkl += μ ** 2\n",
        "    dkl -= 1\n",
        "\n",
        "    return 0.5 * dkl.sum(dim=1)\n",
        "\n",
        "  def get_z_l(self, x, y):\n",
        "    # Distribution over labels\n",
        "    π = self.π(x)\n",
        "    dist_labeled = Categorical(probs=self.sf(π))\n",
        "\n",
        "    # Log-prob of true label\n",
        "    logp_y = dist_labeled.log_prob(y)\n",
        "\n",
        "    # Mean and std\n",
        "    latent_param = self.downscale(x)\n",
        "    μ, ln_σ = torch.chunk(latent_param, 2, 1)\n",
        "    σ = torch.exp(ln_σ)\n",
        "\n",
        "    # Loss\n",
        "    normal_dkl = self.compute_normal_dkl(μ, ln_σ)\n",
        "    loss_labeled = (logp_y - normal_dkl).mean()\n",
        "    \n",
        "    # Sample\n",
        "    z = Normal(μ, σ).rsample()\n",
        "\n",
        "    return z, loss_labeled\n",
        "\n",
        "  def get_z_u(self, x):\n",
        "    # Distribution over labels\n",
        "    π = self.π(x)\n",
        "    dist_unlabeled = Categorical(probs=self.sf(π))\n",
        "    prob_π = dist_unlabeled.probs\n",
        "    \n",
        "    # KL divergence of label distribution\n",
        "    dkl_cat = self.kl_constant + dist_unlabeled.entropy()\n",
        "\n",
        "    # Mean and std\n",
        "    latent_param = self.downscale(x)\n",
        "    μ, ln_σ = torch.chunk(latent_param, 2, 1)\n",
        "    σ = torch.exp(ln_σ)\n",
        "\n",
        "    # Loss\n",
        "    normal_dkl = self.compute_normal_dkl(μ, ln_σ)    \n",
        "    loss_unlabeled = (dkl_cat - normal_dkl).mean()\n",
        "    \n",
        "    # Sample\n",
        "    z = Normal(μ, σ).rsample()\n",
        "\n",
        "    return z, loss_unlabeled, prob_π\n",
        "\n",
        "  def decode(self, z, y):\n",
        "    \"\"\"\n",
        "    Get image from latent `z` and class label `y` \n",
        "    \"\"\"\n",
        "    w = torch.cat((z, self.embd[y]), dim=1)\n",
        "    return self.upscale(w)\n",
        "\n",
        "  def get_decoder_loss_labeled(self, x, x_rec):\n",
        "    p_total = - ((x - x_rec) ** 2).sum(dim=(1, 2, 3))\n",
        "    return p_total.mean()\n",
        "\n",
        "  def get_decoder_loss_unlabeled(self, x, x_rec, prob, class_id):\n",
        "    p_total = - ((x - x_rec) ** 2).sum(dim=(1, 2, 3))\n",
        "    return (prob[:, class_id] * p_total).mean()"
      ],
      "metadata": {
        "id": "aI1Bvp3BJcVW"
      },
      "execution_count": 8,
      "outputs": []
    },
    {
      "cell_type": "markdown",
      "source": [
        "## Model, hyperparameters"
      ],
      "metadata": {
        "id": "3W7nQ1LCUqaE"
      }
    },
    {
      "cell_type": "code",
      "source": [
        "from torch.optim import Adam\n",
        "\n",
        "model = VAE_Linear().to(device)\n",
        "opt = Adam(model.parameters(), 1e-4)\n",
        "\n",
        "n_epochs = 30\n",
        "batch_size = 64"
      ],
      "metadata": {
        "id": "PesXCcayUp8T"
      },
      "execution_count": 21,
      "outputs": []
    },
    {
      "cell_type": "markdown",
      "source": [
        "## Load data"
      ],
      "metadata": {
        "id": "Wvxq1zcrUx1-"
      }
    },
    {
      "cell_type": "code",
      "source": [
        "train_data, test_dataset = get_data('MNIST', binary=False)\n",
        "\n",
        "class SSDataset:\n",
        "  def __init__(self, data, c=4_000, train=True):\n",
        "    self.data = data\n",
        "    self.c = c\n",
        "    self.train = train\n",
        "\n",
        "  def __len__(self):\n",
        "    return len(self.data)\n",
        "\n",
        "  def __getitem__(self, i):\n",
        "    x, y = self.data[i]\n",
        "    x[x >= 0.] = 1.\n",
        "    x[x < 0.] = 0.\n",
        "    \n",
        "    if not self.train:\n",
        "      return x, y\n",
        "\n",
        "    y = y if i < self.c else -1 \n",
        "    return x, y\n",
        "\n",
        "train_data, test_dataset = SSDataset(train_data), SSDataset(test_dataset, train=False)"
      ],
      "metadata": {
        "id": "htn-kWzPUxkh",
        "colab": {
          "base_uri": "https://localhost:8080/",
          "height": 423,
          "referenced_widgets": [
            "12dfe7b2fc2f45a0ad275ec47c656e8f",
            "c74b1a9bfbe242818139f91537750f3f",
            "67422de7dbc04cd2bb18678523bbf82b",
            "2a519fedcf2044b594aa2db6e1746a43",
            "895fbf36bcdb4960941918a5aef8d70c",
            "33fc6faf2afc47b9863b38ff75df9a91",
            "78f51ed23ad1466d969ae82b42e658a2",
            "cb08918918c44bb581fed2e8ef046a44",
            "618e58fdf6574b51886d132c190a0ae0",
            "b754ccc47650446db0ca9734f382555b",
            "761f2e396bbb4fd2a4f9b58bc3c466a9",
            "72bae825fe404f7e9569354df51e88fc",
            "0745dbe8100a4f52b3547eca27179e11",
            "397241a9fa334d50985e5f73c023323d",
            "5ba77d8d6a0340f9bf773fe22dad9529",
            "917a8ad3f4904b4a8b33aa8c0f4aa340",
            "b74e718be39f4a0886123f07ad5c2de4",
            "d9233327b6bf4579b9f07d1e010d2adc",
            "1da9666b86244a1fa2ea3a4f73de5a18",
            "2af1b6d4afee439eaa5dc26405dac307",
            "e26e9a35142a4a7d8a81876553c92b5e",
            "a98d3356ccb24d639ecc75bc8129cc41",
            "f83972b37eb5484694373d6d8a1bb85d",
            "701f8f9c62164acfad6e574dd2b667d4",
            "48e1cf3fdfba4fc1adca6161a6576ee8",
            "6bf418d3435d44cdbc2a7e587286ad9e",
            "456dfbfbf72f477ebb04f668347b429a",
            "a0a5b2ee7f0e4e32b200876064c30d63",
            "bf465c4db6ab41f2bddf8021cec425dd",
            "c0adf29599654ff0a8fbdb6a0559850b",
            "c20c7cbf19934363a4a139b6d94a92b5",
            "60fd25faf8064d4fbf17a9b78d918880",
            "5f75bb639cca43788a7246ea0e8c7349",
            "4b966980344b4795b459915dfe763d2a",
            "e8286afc10e34c39aa8ed95950a08d79",
            "b79227a90be94ac496ae0fdd48833471",
            "63002d0b3b58478ba0e35c32f97459aa",
            "d50c0a319456443f8ba1a622ceb728e7",
            "9875bdebb5b044cf9cd6987db00b00dc",
            "1c6033d9eaf4481f857c55f08bed597e",
            "37b7c966489f46678127af652f7d7ae1",
            "502923b6032e4c81846e1f4733eb2d4d",
            "a6f98a57e9e649298882cf54bc2cf1d2",
            "6ea98a6f694041eba61a934cdca5288c"
          ]
        },
        "outputId": "003327cc-6261-4b18-c38b-c51f278162d1"
      },
      "execution_count": 10,
      "outputs": [
        {
          "output_type": "stream",
          "name": "stdout",
          "text": [
            "Downloading http://yann.lecun.com/exdb/mnist/train-images-idx3-ubyte.gz\n",
            "Downloading http://yann.lecun.com/exdb/mnist/train-images-idx3-ubyte.gz to ./MNIST/raw/train-images-idx3-ubyte.gz\n"
          ]
        },
        {
          "output_type": "display_data",
          "data": {
            "text/plain": [
              "  0%|          | 0/9912422 [00:00<?, ?it/s]"
            ],
            "application/vnd.jupyter.widget-view+json": {
              "version_major": 2,
              "version_minor": 0,
              "model_id": "12dfe7b2fc2f45a0ad275ec47c656e8f"
            }
          },
          "metadata": {}
        },
        {
          "output_type": "stream",
          "name": "stdout",
          "text": [
            "Extracting ./MNIST/raw/train-images-idx3-ubyte.gz to ./MNIST/raw\n",
            "\n",
            "Downloading http://yann.lecun.com/exdb/mnist/train-labels-idx1-ubyte.gz\n",
            "Downloading http://yann.lecun.com/exdb/mnist/train-labels-idx1-ubyte.gz to ./MNIST/raw/train-labels-idx1-ubyte.gz\n"
          ]
        },
        {
          "output_type": "display_data",
          "data": {
            "text/plain": [
              "  0%|          | 0/28881 [00:00<?, ?it/s]"
            ],
            "application/vnd.jupyter.widget-view+json": {
              "version_major": 2,
              "version_minor": 0,
              "model_id": "72bae825fe404f7e9569354df51e88fc"
            }
          },
          "metadata": {}
        },
        {
          "output_type": "stream",
          "name": "stdout",
          "text": [
            "Extracting ./MNIST/raw/train-labels-idx1-ubyte.gz to ./MNIST/raw\n",
            "\n",
            "Downloading http://yann.lecun.com/exdb/mnist/t10k-images-idx3-ubyte.gz\n",
            "Downloading http://yann.lecun.com/exdb/mnist/t10k-images-idx3-ubyte.gz to ./MNIST/raw/t10k-images-idx3-ubyte.gz\n"
          ]
        },
        {
          "output_type": "display_data",
          "data": {
            "text/plain": [
              "  0%|          | 0/1648877 [00:00<?, ?it/s]"
            ],
            "application/vnd.jupyter.widget-view+json": {
              "version_major": 2,
              "version_minor": 0,
              "model_id": "f83972b37eb5484694373d6d8a1bb85d"
            }
          },
          "metadata": {}
        },
        {
          "output_type": "stream",
          "name": "stdout",
          "text": [
            "Extracting ./MNIST/raw/t10k-images-idx3-ubyte.gz to ./MNIST/raw\n",
            "\n",
            "Downloading http://yann.lecun.com/exdb/mnist/t10k-labels-idx1-ubyte.gz\n",
            "Downloading http://yann.lecun.com/exdb/mnist/t10k-labels-idx1-ubyte.gz to ./MNIST/raw/t10k-labels-idx1-ubyte.gz\n"
          ]
        },
        {
          "output_type": "display_data",
          "data": {
            "text/plain": [
              "  0%|          | 0/4542 [00:00<?, ?it/s]"
            ],
            "application/vnd.jupyter.widget-view+json": {
              "version_major": 2,
              "version_minor": 0,
              "model_id": "4b966980344b4795b459915dfe763d2a"
            }
          },
          "metadata": {}
        },
        {
          "output_type": "stream",
          "name": "stdout",
          "text": [
            "Extracting ./MNIST/raw/t10k-labels-idx1-ubyte.gz to ./MNIST/raw\n",
            "\n"
          ]
        }
      ]
    },
    {
      "cell_type": "code",
      "source": [
        "from torch.utils.data import DataLoader, Subset\n",
        "\n",
        "labeled_idx = list(range(train_data.c))\n",
        "labeled_subset = Subset(train_data, labeled_idx)\n",
        "\n",
        "labeled_data = DataLoader(labeled_subset, \n",
        "                          batch_size=batch_size,\n",
        "                          shuffle=True, drop_last=True)\n",
        "\n",
        "all_data = DataLoader(train_data,\n",
        "                      batch_size=batch_size,\n",
        "                      shuffle=True, drop_last=True)\n",
        "\n",
        "test_data = DataLoader(test_dataset,\n",
        "                       batch_size=256)"
      ],
      "metadata": {
        "id": "fGwMcsASU20f"
      },
      "execution_count": 11,
      "outputs": []
    },
    {
      "cell_type": "markdown",
      "source": [
        "## Train loop"
      ],
      "metadata": {
        "id": "wQRe2ZJ8SSkv"
      }
    },
    {
      "cell_type": "code",
      "source": [
        "loss_record = []\n",
        "Accuracy = []\n",
        "one_s = torch.ones((1000, ), device=device).long()\n",
        "\n",
        "for epoch in range(n_epochs):\n",
        "  for (x_l, y), (x_u, _) in zip(labeled_data, all_data):\n",
        "    x_l = x_l.to(device)\n",
        "    x_u = x_u.to(device)\n",
        "    y = y.to(device)\n",
        "\n",
        "    # Get latent on labeled and unlabeled\n",
        "    z_l, loss_el = model.get_z_l(x_l, y)\n",
        "    z_u, loss_eu, prob = model.get_z_u(x_u)\n",
        "\n",
        "    # Decoder loss on labeled data\n",
        "    reconstruction_l = model.decode(z_l, y)\n",
        "    loss_dl = model.get_decoder_loss_labeled(x_l, reconstruction_l)\n",
        "\n",
        "    # Decoder loss on unlabeled data (expectation over all labels)\n",
        "    loss_du = 0\n",
        "    for i in range(10):\n",
        "      reconstruction_u = model.decode(z_u, one_s[:z_u.shape[0]] * i)\n",
        "      loss_du += model.get_decoder_loss_unlabeled(x_u, reconstruction_u, prob, i)\n",
        "\n",
        "    total_loss = - (loss_el + loss_dl + loss_eu + loss_du)\n",
        "  \n",
        "    opt.zero_grad()\n",
        "    total_loss.backward()\n",
        "    opt.step()\n",
        "\n",
        "    loss_record.append(total_loss.item())\n",
        "\n",
        "  # Compute accuracy on test dataset\n",
        "  acc = 0\n",
        "  for batch in test_data:\n",
        "    X = batch[0].to(device)\n",
        "    label = batch[1].to(device)\n",
        "    \n",
        "    with torch.no_grad():\n",
        "      π = model.π(X)\n",
        "      out = torch.argmax(π, dim=1)\n",
        "\n",
        "    acc += (out == label).sum().item()\n",
        "\n",
        "  Accuracy.append(acc / len(test_dataset))\n",
        "\n",
        "  print(f\"EPOCH : {epoch}\")\n",
        "  print(f\"\\t loss : {sum(loss_record[-100:]):.4f}\")\n",
        "  print(f\"\\t Accuracy : {Accuracy[-1]:.4f}\")"
      ],
      "metadata": {
        "colab": {
          "base_uri": "https://localhost:8080/"
        },
        "id": "xHk58jHTSe4X",
        "outputId": "ecd9af4e-bb50-4213-d754-42c8f0060c33"
      },
      "execution_count": 12,
      "outputs": [
        {
          "output_type": "stream",
          "name": "stdout",
          "text": [
            "EPOCH : 0\n",
            "\t loss : 16237.1160\n",
            "\t Accuracy : 0.2979\n",
            "EPOCH : 1\n",
            "\t loss : 16163.3514\n",
            "\t Accuracy : 0.6035\n",
            "EPOCH : 2\n",
            "\t loss : 13137.1712\n",
            "\t Accuracy : 0.7085\n",
            "EPOCH : 3\n",
            "\t loss : 12394.0441\n",
            "\t Accuracy : 0.7654\n",
            "EPOCH : 4\n",
            "\t loss : 11846.0121\n",
            "\t Accuracy : 0.7865\n",
            "EPOCH : 5\n",
            "\t loss : 11561.4073\n",
            "\t Accuracy : 0.7970\n",
            "EPOCH : 6\n",
            "\t loss : 11333.0947\n",
            "\t Accuracy : 0.8055\n",
            "EPOCH : 7\n",
            "\t loss : 11246.7685\n",
            "\t Accuracy : 0.8108\n",
            "EPOCH : 8\n",
            "\t loss : 11210.1236\n",
            "\t Accuracy : 0.8133\n",
            "EPOCH : 9\n",
            "\t loss : 11141.4457\n",
            "\t Accuracy : 0.8247\n",
            "EPOCH : 10\n",
            "\t loss : 11048.0215\n",
            "\t Accuracy : 0.8279\n",
            "EPOCH : 11\n",
            "\t loss : 10988.8136\n",
            "\t Accuracy : 0.8371\n",
            "EPOCH : 12\n",
            "\t loss : 10894.4820\n",
            "\t Accuracy : 0.8409\n",
            "EPOCH : 13\n",
            "\t loss : 10778.3408\n",
            "\t Accuracy : 0.8489\n",
            "EPOCH : 14\n",
            "\t loss : 10657.8864\n",
            "\t Accuracy : 0.8590\n",
            "EPOCH : 15\n",
            "\t loss : 10538.2313\n",
            "\t Accuracy : 0.8636\n",
            "EPOCH : 16\n",
            "\t loss : 10417.3546\n",
            "\t Accuracy : 0.8671\n",
            "EPOCH : 17\n",
            "\t loss : 10381.5198\n",
            "\t Accuracy : 0.8732\n",
            "EPOCH : 18\n",
            "\t loss : 10281.4264\n",
            "\t Accuracy : 0.8782\n",
            "EPOCH : 19\n",
            "\t loss : 10222.9585\n",
            "\t Accuracy : 0.8809\n",
            "EPOCH : 20\n",
            "\t loss : 10127.8092\n",
            "\t Accuracy : 0.8826\n",
            "EPOCH : 21\n",
            "\t loss : 10081.3481\n",
            "\t Accuracy : 0.8842\n",
            "EPOCH : 22\n",
            "\t loss : 10066.5617\n",
            "\t Accuracy : 0.8847\n",
            "EPOCH : 23\n",
            "\t loss : 10007.0660\n",
            "\t Accuracy : 0.8859\n",
            "EPOCH : 24\n",
            "\t loss : 9990.3085\n",
            "\t Accuracy : 0.8885\n",
            "EPOCH : 25\n",
            "\t loss : 9927.4241\n",
            "\t Accuracy : 0.8886\n",
            "EPOCH : 26\n",
            "\t loss : 9926.6708\n",
            "\t Accuracy : 0.8897\n",
            "EPOCH : 27\n",
            "\t loss : 9843.4617\n",
            "\t Accuracy : 0.8902\n",
            "EPOCH : 28\n",
            "\t loss : 9794.9826\n",
            "\t Accuracy : 0.8923\n",
            "EPOCH : 29\n",
            "\t loss : 9777.7037\n",
            "\t Accuracy : 0.8926\n"
          ]
        }
      ]
    },
    {
      "cell_type": "markdown",
      "source": [
        "## Result"
      ],
      "metadata": {
        "id": "lu_x39alV295"
      }
    },
    {
      "cell_type": "code",
      "source": [
        "def b(train_data, test_data):\n",
        "    \"\"\"\n",
        "    train_data: An (n_train, 1, 28, 28) torchvision dataset of binary MNIST images\n",
        "    Returns\n",
        "    - a (# of training iterations, ) numpy array  losses on each iteration\n",
        "    - a (# of training epochs, ) numpy array accuracies on each epoch\n",
        "    \"\"\"\n",
        "    return loss_record, Accuracy"
      ],
      "metadata": {
        "id": "opRfI5beScTp"
      },
      "execution_count": 14,
      "outputs": []
    },
    {
      "cell_type": "code",
      "source": [
        "plt.rcParams[\"figure.figsize\"] = [10., 5.]\n",
        "b_resul(b)"
      ],
      "metadata": {
        "colab": {
          "base_uri": "https://localhost:8080/",
          "height": 683
        },
        "id": "rqVyeb7zmzc0",
        "outputId": "37ee9dd9-284f-4bd0-a7ff-709f71c722a9"
      },
      "execution_count": 18,
      "outputs": [
        {
          "output_type": "display_data",
          "data": {
            "text/plain": [
              "<Figure size 720x360 with 1 Axes>"
            ],
            "image/png": "[encoded data removed]"
          },
          "metadata": {
            "needs_background": "light"
          }
        },
        {
          "output_type": "display_data",
          "data": {
            "text/plain": [
              "<Figure size 720x360 with 1 Axes>"
            ],
            "image/png": "[encoded data removed]"
          },
          "metadata": {
            "needs_background": "light"
          }
        }
      ]
    },
    {
      "cell_type": "markdown",
      "source": [
        "## Conditional generation"
      ],
      "metadata": {
        "id": "29lg-sMvmt9h"
      }
    },
    {
      "cell_type": "code",
      "source": [
        "z = torch.randn((10, 16), device=device)\n",
        "Img = np.zeros((10, 10, 28, 28))\n",
        "\n",
        "with torch.no_grad():\n",
        "  for i in range(10):\n",
        "    X = model.decode(z, one_s[:10] * i)\n",
        "\n",
        "    X = X.permute((0, 2, 3, 1)).squeeze(-1)\n",
        "    X = X.cpu().numpy()\n",
        "    Img[i] = X"
      ],
      "metadata": {
        "id": "xHh4P0G5ohZ1"
      },
      "execution_count": 19,
      "outputs": []
    },
    {
      "cell_type": "code",
      "source": [
        "plt.rcParams[\"figure.figsize\"] = [20., 20.]\n",
        "\n",
        "for i in range(10):\n",
        "  for j in range(10):\n",
        "    plt.subplot(10, 10, i * 10 + j + 1)\n",
        "    plt.imshow(Img[i, j], cmap='gray')\n",
        "    plt.axis('off')\n",
        "\n",
        "plt.show()"
      ],
      "metadata": {
        "colab": {
          "base_uri": "https://localhost:8080/",
          "height": 1000
        },
        "id": "8LqYyfi1VzvP",
        "outputId": "3ebf056b-2c25-4075-efcc-124a3867ac7b"
      },
      "execution_count": 20,
      "outputs": [
        {
          "output_type": "display_data",
          "data": {
            "text/plain": [
              "<Figure size 1440x1440 with 100 Axes>"
            ],
            "image/png": "[encoded data removed]"
          },
          "metadata": {
            "needs_background": "light"
          }
        }
      ]
    }
  ]
}